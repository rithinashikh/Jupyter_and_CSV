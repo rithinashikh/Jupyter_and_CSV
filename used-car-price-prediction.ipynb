{
 "cells": [
  {
   "cell_type": "markdown",
   "id": "2b265f52",
   "metadata": {
    "papermill": {
     "duration": 0.016256,
     "end_time": "2022-08-01T01:24:23.054586",
     "exception": false,
     "start_time": "2022-08-01T01:24:23.038330",
     "status": "completed"
    },
    "tags": []
   },
   "source": [
    "## **Used Car Price Prediction**"
   ]
  },
  {
   "cell_type": "markdown",
   "id": "55952745",
   "metadata": {
    "papermill": {
     "duration": 0.014197,
     "end_time": "2022-08-01T01:24:23.083360",
     "exception": false,
     "start_time": "2022-08-01T01:24:23.069163",
     "status": "completed"
    },
    "tags": []
   },
   "source": [
    "This dataset contains information about used cars. This data can be used for a lot of purposes such as price prediction. The columns in the given dataset are as follows:"
   ]
  },
  {
   "cell_type": "markdown",
   "id": "87ffc24d",
   "metadata": {
    "papermill": {
     "duration": 0.013941,
     "end_time": "2022-08-01T01:24:23.111587",
     "exception": false,
     "start_time": "2022-08-01T01:24:23.097646",
     "status": "completed"
    },
    "tags": []
   },
   "source": [
    "- name\n",
    "- year\n",
    "- selling_price\n",
    "- km_driven\n",
    "- fuel\n",
    "- seller_type\n",
    "- transmission\n",
    "- owner"
   ]
  },
  {
   "cell_type": "markdown",
   "id": "9ff020f2",
   "metadata": {
    "papermill": {
     "duration": 0.014836,
     "end_time": "2022-08-01T01:24:23.140681",
     "exception": false,
     "start_time": "2022-08-01T01:24:23.125845",
     "status": "completed"
    },
    "tags": []
   },
   "source": [
    "We are constructing a model to predict the price of the car"
   ]
  },
  {
   "cell_type": "code",
   "execution_count": 1,
   "id": "9f00be12",
   "metadata": {
    "_cell_guid": "b1076dfc-b9ad-4769-8c92-a6c4dae69d19",
    "_uuid": "8f2839f25d086af736a60e9eeb907d3b93b6e0e5",
    "execution": {
     "iopub.execute_input": "2022-08-01T01:24:23.171809Z",
     "iopub.status.busy": "2022-08-01T01:24:23.170899Z",
     "iopub.status.idle": "2022-08-01T01:24:23.184901Z",
     "shell.execute_reply": "2022-08-01T01:24:23.183707Z"
    },
    "papermill": {
     "duration": 0.033206,
     "end_time": "2022-08-01T01:24:23.188046",
     "exception": false,
     "start_time": "2022-08-01T01:24:23.154840",
     "status": "completed"
    },
    "tags": []
   },
   "outputs": [],
   "source": [
    "import numpy as np\n",
    "import pandas as pd"
   ]
  },
  {
   "cell_type": "code",
   "execution_count": 2,
   "id": "85d99e3e",
   "metadata": {
    "execution": {
     "iopub.execute_input": "2022-08-01T01:24:23.219093Z",
     "iopub.status.busy": "2022-08-01T01:24:23.218296Z",
     "iopub.status.idle": "2022-08-01T01:24:23.273006Z",
     "shell.execute_reply": "2022-08-01T01:24:23.271552Z"
    },
    "papermill": {
     "duration": 0.07435,
     "end_time": "2022-08-01T01:24:23.276756",
     "exception": false,
     "start_time": "2022-08-01T01:24:23.202406",
     "status": "completed"
    },
    "tags": []
   },
   "outputs": [
    {
     "data": {
      "text/html": [
       "<div>\n",
       "<style scoped>\n",
       "    .dataframe tbody tr th:only-of-type {\n",
       "        vertical-align: middle;\n",
       "    }\n",
       "\n",
       "    .dataframe tbody tr th {\n",
       "        vertical-align: top;\n",
       "    }\n",
       "\n",
       "    .dataframe thead th {\n",
       "        text-align: right;\n",
       "    }\n",
       "</style>\n",
       "<table border=\"1\" class=\"dataframe\">\n",
       "  <thead>\n",
       "    <tr style=\"text-align: right;\">\n",
       "      <th></th>\n",
       "      <th>name</th>\n",
       "      <th>year</th>\n",
       "      <th>selling_price</th>\n",
       "      <th>km_driven</th>\n",
       "      <th>fuel</th>\n",
       "      <th>seller_type</th>\n",
       "      <th>transmission</th>\n",
       "      <th>owner</th>\n",
       "    </tr>\n",
       "  </thead>\n",
       "  <tbody>\n",
       "    <tr>\n",
       "      <th>0</th>\n",
       "      <td>Maruti 800 AC</td>\n",
       "      <td>2007</td>\n",
       "      <td>60000</td>\n",
       "      <td>70000</td>\n",
       "      <td>Petrol</td>\n",
       "      <td>Individual</td>\n",
       "      <td>Manual</td>\n",
       "      <td>First Owner</td>\n",
       "    </tr>\n",
       "    <tr>\n",
       "      <th>1</th>\n",
       "      <td>Maruti Wagon R LXI Minor</td>\n",
       "      <td>2007</td>\n",
       "      <td>135000</td>\n",
       "      <td>50000</td>\n",
       "      <td>Petrol</td>\n",
       "      <td>Individual</td>\n",
       "      <td>Manual</td>\n",
       "      <td>First Owner</td>\n",
       "    </tr>\n",
       "    <tr>\n",
       "      <th>2</th>\n",
       "      <td>Hyundai Verna 1.6 SX</td>\n",
       "      <td>2012</td>\n",
       "      <td>600000</td>\n",
       "      <td>100000</td>\n",
       "      <td>Diesel</td>\n",
       "      <td>Individual</td>\n",
       "      <td>Manual</td>\n",
       "      <td>First Owner</td>\n",
       "    </tr>\n",
       "    <tr>\n",
       "      <th>3</th>\n",
       "      <td>Datsun RediGO T Option</td>\n",
       "      <td>2017</td>\n",
       "      <td>250000</td>\n",
       "      <td>46000</td>\n",
       "      <td>Petrol</td>\n",
       "      <td>Individual</td>\n",
       "      <td>Manual</td>\n",
       "      <td>First Owner</td>\n",
       "    </tr>\n",
       "    <tr>\n",
       "      <th>4</th>\n",
       "      <td>Honda Amaze VX i-DTEC</td>\n",
       "      <td>2014</td>\n",
       "      <td>450000</td>\n",
       "      <td>141000</td>\n",
       "      <td>Diesel</td>\n",
       "      <td>Individual</td>\n",
       "      <td>Manual</td>\n",
       "      <td>Second Owner</td>\n",
       "    </tr>\n",
       "  </tbody>\n",
       "</table>\n",
       "</div>"
      ],
      "text/plain": [
       "                       name  year  selling_price  km_driven    fuel  \\\n",
       "0             Maruti 800 AC  2007          60000      70000  Petrol   \n",
       "1  Maruti Wagon R LXI Minor  2007         135000      50000  Petrol   \n",
       "2      Hyundai Verna 1.6 SX  2012         600000     100000  Diesel   \n",
       "3    Datsun RediGO T Option  2017         250000      46000  Petrol   \n",
       "4     Honda Amaze VX i-DTEC  2014         450000     141000  Diesel   \n",
       "\n",
       "  seller_type transmission         owner  \n",
       "0  Individual       Manual   First Owner  \n",
       "1  Individual       Manual   First Owner  \n",
       "2  Individual       Manual   First Owner  \n",
       "3  Individual       Manual   First Owner  \n",
       "4  Individual       Manual  Second Owner  "
      ]
     },
     "execution_count": 2,
     "metadata": {},
     "output_type": "execute_result"
    }
   ],
   "source": [
    "df = pd.read_csv(\"CAR DETAILS FROM CAR DEKHO.csv\")\n",
    "df.head()"
   ]
  },
  {
   "cell_type": "markdown",
   "id": "f7238ce2",
   "metadata": {
    "papermill": {
     "duration": 0.014222,
     "end_time": "2022-08-01T01:24:23.305970",
     "exception": false,
     "start_time": "2022-08-01T01:24:23.291748",
     "status": "completed"
    },
    "tags": []
   },
   "source": [
    "#### **Data Exploration**"
   ]
  },
  {
   "cell_type": "code",
   "execution_count": 3,
   "id": "7e4aad70",
   "metadata": {
    "execution": {
     "iopub.execute_input": "2022-08-01T01:24:23.337707Z",
     "iopub.status.busy": "2022-08-01T01:24:23.337239Z",
     "iopub.status.idle": "2022-08-01T01:24:23.345104Z",
     "shell.execute_reply": "2022-08-01T01:24:23.343960Z"
    },
    "papermill": {
     "duration": 0.026946,
     "end_time": "2022-08-01T01:24:23.347746",
     "exception": false,
     "start_time": "2022-08-01T01:24:23.320800",
     "status": "completed"
    },
    "tags": []
   },
   "outputs": [
    {
     "data": {
      "text/plain": [
       "(4340, 8)"
      ]
     },
     "execution_count": 3,
     "metadata": {},
     "output_type": "execute_result"
    }
   ],
   "source": [
    "df.shape"
   ]
  },
  {
   "cell_type": "code",
   "execution_count": 4,
   "id": "5a85fec4",
   "metadata": {
    "execution": {
     "iopub.execute_input": "2022-08-01T01:24:23.380405Z",
     "iopub.status.busy": "2022-08-01T01:24:23.379644Z",
     "iopub.status.idle": "2022-08-01T01:24:23.417603Z",
     "shell.execute_reply": "2022-08-01T01:24:23.416375Z"
    },
    "papermill": {
     "duration": 0.057466,
     "end_time": "2022-08-01T01:24:23.420595",
     "exception": false,
     "start_time": "2022-08-01T01:24:23.363129",
     "status": "completed"
    },
    "tags": []
   },
   "outputs": [
    {
     "data": {
      "text/html": [
       "<div>\n",
       "<style scoped>\n",
       "    .dataframe tbody tr th:only-of-type {\n",
       "        vertical-align: middle;\n",
       "    }\n",
       "\n",
       "    .dataframe tbody tr th {\n",
       "        vertical-align: top;\n",
       "    }\n",
       "\n",
       "    .dataframe thead th {\n",
       "        text-align: right;\n",
       "    }\n",
       "</style>\n",
       "<table border=\"1\" class=\"dataframe\">\n",
       "  <thead>\n",
       "    <tr style=\"text-align: right;\">\n",
       "      <th></th>\n",
       "      <th>year</th>\n",
       "      <th>selling_price</th>\n",
       "      <th>km_driven</th>\n",
       "    </tr>\n",
       "  </thead>\n",
       "  <tbody>\n",
       "    <tr>\n",
       "      <th>count</th>\n",
       "      <td>4340.000000</td>\n",
       "      <td>4.340000e+03</td>\n",
       "      <td>4340.000000</td>\n",
       "    </tr>\n",
       "    <tr>\n",
       "      <th>mean</th>\n",
       "      <td>2013.090783</td>\n",
       "      <td>5.041273e+05</td>\n",
       "      <td>66215.777419</td>\n",
       "    </tr>\n",
       "    <tr>\n",
       "      <th>std</th>\n",
       "      <td>4.215344</td>\n",
       "      <td>5.785487e+05</td>\n",
       "      <td>46644.102194</td>\n",
       "    </tr>\n",
       "    <tr>\n",
       "      <th>min</th>\n",
       "      <td>1992.000000</td>\n",
       "      <td>2.000000e+04</td>\n",
       "      <td>1.000000</td>\n",
       "    </tr>\n",
       "    <tr>\n",
       "      <th>25%</th>\n",
       "      <td>2011.000000</td>\n",
       "      <td>2.087498e+05</td>\n",
       "      <td>35000.000000</td>\n",
       "    </tr>\n",
       "    <tr>\n",
       "      <th>50%</th>\n",
       "      <td>2014.000000</td>\n",
       "      <td>3.500000e+05</td>\n",
       "      <td>60000.000000</td>\n",
       "    </tr>\n",
       "    <tr>\n",
       "      <th>75%</th>\n",
       "      <td>2016.000000</td>\n",
       "      <td>6.000000e+05</td>\n",
       "      <td>90000.000000</td>\n",
       "    </tr>\n",
       "    <tr>\n",
       "      <th>max</th>\n",
       "      <td>2020.000000</td>\n",
       "      <td>8.900000e+06</td>\n",
       "      <td>806599.000000</td>\n",
       "    </tr>\n",
       "  </tbody>\n",
       "</table>\n",
       "</div>"
      ],
      "text/plain": [
       "              year  selling_price      km_driven\n",
       "count  4340.000000   4.340000e+03    4340.000000\n",
       "mean   2013.090783   5.041273e+05   66215.777419\n",
       "std       4.215344   5.785487e+05   46644.102194\n",
       "min    1992.000000   2.000000e+04       1.000000\n",
       "25%    2011.000000   2.087498e+05   35000.000000\n",
       "50%    2014.000000   3.500000e+05   60000.000000\n",
       "75%    2016.000000   6.000000e+05   90000.000000\n",
       "max    2020.000000   8.900000e+06  806599.000000"
      ]
     },
     "execution_count": 4,
     "metadata": {},
     "output_type": "execute_result"
    }
   ],
   "source": [
    "df.describe()"
   ]
  },
  {
   "cell_type": "markdown",
   "id": "739b0f5f",
   "metadata": {
    "papermill": {
     "duration": 0.014801,
     "end_time": "2022-08-01T01:24:23.451246",
     "exception": false,
     "start_time": "2022-08-01T01:24:23.436445",
     "status": "completed"
    },
    "tags": []
   },
   "source": [
    "Observation: No prominent Outliers found"
   ]
  },
  {
   "cell_type": "code",
   "execution_count": 5,
   "id": "0e6ad65f",
   "metadata": {
    "execution": {
     "iopub.execute_input": "2022-08-01T01:24:23.483926Z",
     "iopub.status.busy": "2022-08-01T01:24:23.483120Z",
     "iopub.status.idle": "2022-08-01T01:24:23.494593Z",
     "shell.execute_reply": "2022-08-01T01:24:23.493282Z"
    },
    "papermill": {
     "duration": 0.03103,
     "end_time": "2022-08-01T01:24:23.497343",
     "exception": false,
     "start_time": "2022-08-01T01:24:23.466313",
     "status": "completed"
    },
    "tags": []
   },
   "outputs": [
    {
     "data": {
      "text/plain": [
       "False"
      ]
     },
     "execution_count": 5,
     "metadata": {},
     "output_type": "execute_result"
    }
   ],
   "source": [
    "df.isnull().values.any()"
   ]
  },
  {
   "cell_type": "markdown",
   "id": "1b693c7c",
   "metadata": {
    "papermill": {
     "duration": 0.014812,
     "end_time": "2022-08-01T01:24:23.527412",
     "exception": false,
     "start_time": "2022-08-01T01:24:23.512600",
     "status": "completed"
    },
    "tags": []
   },
   "source": [
    "Observation: No null values found"
   ]
  },
  {
   "cell_type": "code",
   "execution_count": 6,
   "id": "d2212376",
   "metadata": {
    "execution": {
     "iopub.execute_input": "2022-08-01T01:24:23.560143Z",
     "iopub.status.busy": "2022-08-01T01:24:23.559491Z",
     "iopub.status.idle": "2022-08-01T01:24:23.578878Z",
     "shell.execute_reply": "2022-08-01T01:24:23.577829Z"
    },
    "papermill": {
     "duration": 0.03895,
     "end_time": "2022-08-01T01:24:23.581600",
     "exception": false,
     "start_time": "2022-08-01T01:24:23.542650",
     "status": "completed"
    },
    "tags": []
   },
   "outputs": [
    {
     "name": "stdout",
     "output_type": "stream",
     "text": [
      "<class 'pandas.core.frame.DataFrame'>\n",
      "RangeIndex: 4340 entries, 0 to 4339\n",
      "Data columns (total 8 columns):\n",
      " #   Column         Non-Null Count  Dtype \n",
      "---  ------         --------------  ----- \n",
      " 0   name           4340 non-null   object\n",
      " 1   year           4340 non-null   int64 \n",
      " 2   selling_price  4340 non-null   int64 \n",
      " 3   km_driven      4340 non-null   int64 \n",
      " 4   fuel           4340 non-null   object\n",
      " 5   seller_type    4340 non-null   object\n",
      " 6   transmission   4340 non-null   object\n",
      " 7   owner          4340 non-null   object\n",
      "dtypes: int64(3), object(5)\n",
      "memory usage: 271.4+ KB\n"
     ]
    }
   ],
   "source": [
    "df.info()"
   ]
  },
  {
   "cell_type": "code",
   "execution_count": 7,
   "id": "6587bb83",
   "metadata": {
    "execution": {
     "iopub.execute_input": "2022-08-01T01:24:23.615036Z",
     "iopub.status.busy": "2022-08-01T01:24:23.613935Z",
     "iopub.status.idle": "2022-08-01T01:24:23.624665Z",
     "shell.execute_reply": "2022-08-01T01:24:23.623285Z"
    },
    "papermill": {
     "duration": 0.031635,
     "end_time": "2022-08-01T01:24:23.628622",
     "exception": false,
     "start_time": "2022-08-01T01:24:23.596987",
     "status": "completed"
    },
    "tags": []
   },
   "outputs": [
    {
     "name": "stdout",
     "output_type": "stream",
     "text": [
      "Fuel unique values =  ['Petrol' 'Diesel' 'CNG' 'LPG' 'Electric']\n",
      "Seller type unique values =  ['Individual' 'Dealer' 'Trustmark Dealer']\n",
      "Transmission unique values =  ['Manual' 'Automatic']\n",
      "Owner unique values =  ['First Owner' 'Second Owner' 'Fourth & Above Owner' 'Third Owner'\n",
      " 'Test Drive Car']\n"
     ]
    }
   ],
   "source": [
    "print('Fuel unique values = ', df['fuel'].unique())\n",
    "print('Seller type unique values = ', df['seller_type'].unique())\n",
    "print('Transmission unique values = ', df['transmission'].unique())\n",
    "print('Owner unique values = ', df['owner'].unique())"
   ]
  },
  {
   "cell_type": "code",
   "execution_count": 8,
   "id": "9c1d38e0",
   "metadata": {
    "execution": {
     "iopub.execute_input": "2022-08-01T01:24:23.662402Z",
     "iopub.status.busy": "2022-08-01T01:24:23.661570Z",
     "iopub.status.idle": "2022-08-01T01:24:23.683091Z",
     "shell.execute_reply": "2022-08-01T01:24:23.682006Z"
    },
    "papermill": {
     "duration": 0.041096,
     "end_time": "2022-08-01T01:24:23.685644",
     "exception": false,
     "start_time": "2022-08-01T01:24:23.644548",
     "status": "completed"
    },
    "tags": []
   },
   "outputs": [
    {
     "data": {
      "text/html": [
       "<div>\n",
       "<style scoped>\n",
       "    .dataframe tbody tr th:only-of-type {\n",
       "        vertical-align: middle;\n",
       "    }\n",
       "\n",
       "    .dataframe tbody tr th {\n",
       "        vertical-align: top;\n",
       "    }\n",
       "\n",
       "    .dataframe thead th {\n",
       "        text-align: right;\n",
       "    }\n",
       "</style>\n",
       "<table border=\"1\" class=\"dataframe\">\n",
       "  <thead>\n",
       "    <tr style=\"text-align: right;\">\n",
       "      <th></th>\n",
       "      <th>name</th>\n",
       "      <th>selling_price</th>\n",
       "      <th>km_driven</th>\n",
       "      <th>fuel</th>\n",
       "      <th>seller_type</th>\n",
       "      <th>transmission</th>\n",
       "      <th>owner</th>\n",
       "      <th>car_age</th>\n",
       "    </tr>\n",
       "  </thead>\n",
       "  <tbody>\n",
       "    <tr>\n",
       "      <th>0</th>\n",
       "      <td>Maruti 800 AC</td>\n",
       "      <td>60000</td>\n",
       "      <td>70000</td>\n",
       "      <td>Petrol</td>\n",
       "      <td>Individual</td>\n",
       "      <td>Manual</td>\n",
       "      <td>First Owner</td>\n",
       "      <td>15</td>\n",
       "    </tr>\n",
       "    <tr>\n",
       "      <th>1</th>\n",
       "      <td>Maruti Wagon R LXI Minor</td>\n",
       "      <td>135000</td>\n",
       "      <td>50000</td>\n",
       "      <td>Petrol</td>\n",
       "      <td>Individual</td>\n",
       "      <td>Manual</td>\n",
       "      <td>First Owner</td>\n",
       "      <td>15</td>\n",
       "    </tr>\n",
       "    <tr>\n",
       "      <th>2</th>\n",
       "      <td>Hyundai Verna 1.6 SX</td>\n",
       "      <td>600000</td>\n",
       "      <td>100000</td>\n",
       "      <td>Diesel</td>\n",
       "      <td>Individual</td>\n",
       "      <td>Manual</td>\n",
       "      <td>First Owner</td>\n",
       "      <td>10</td>\n",
       "    </tr>\n",
       "    <tr>\n",
       "      <th>3</th>\n",
       "      <td>Datsun RediGO T Option</td>\n",
       "      <td>250000</td>\n",
       "      <td>46000</td>\n",
       "      <td>Petrol</td>\n",
       "      <td>Individual</td>\n",
       "      <td>Manual</td>\n",
       "      <td>First Owner</td>\n",
       "      <td>5</td>\n",
       "    </tr>\n",
       "    <tr>\n",
       "      <th>4</th>\n",
       "      <td>Honda Amaze VX i-DTEC</td>\n",
       "      <td>450000</td>\n",
       "      <td>141000</td>\n",
       "      <td>Diesel</td>\n",
       "      <td>Individual</td>\n",
       "      <td>Manual</td>\n",
       "      <td>Second Owner</td>\n",
       "      <td>8</td>\n",
       "    </tr>\n",
       "  </tbody>\n",
       "</table>\n",
       "</div>"
      ],
      "text/plain": [
       "                       name  selling_price  km_driven    fuel seller_type  \\\n",
       "0             Maruti 800 AC          60000      70000  Petrol  Individual   \n",
       "1  Maruti Wagon R LXI Minor         135000      50000  Petrol  Individual   \n",
       "2      Hyundai Verna 1.6 SX         600000     100000  Diesel  Individual   \n",
       "3    Datsun RediGO T Option         250000      46000  Petrol  Individual   \n",
       "4     Honda Amaze VX i-DTEC         450000     141000  Diesel  Individual   \n",
       "\n",
       "  transmission         owner  car_age  \n",
       "0       Manual   First Owner       15  \n",
       "1       Manual   First Owner       15  \n",
       "2       Manual   First Owner       10  \n",
       "3       Manual   First Owner        5  \n",
       "4       Manual  Second Owner        8  "
      ]
     },
     "execution_count": 8,
     "metadata": {},
     "output_type": "execute_result"
    }
   ],
   "source": [
    "df[\"car_age\"] = df[\"year\"].apply(lambda x: 2022-x)\n",
    "df.drop(\"year\", axis=1, inplace=True)\n",
    "df.head()"
   ]
  },
  {
   "cell_type": "code",
   "execution_count": 9,
   "id": "d07bc673",
   "metadata": {
    "execution": {
     "iopub.execute_input": "2022-08-01T01:24:23.719650Z",
     "iopub.status.busy": "2022-08-01T01:24:23.718823Z",
     "iopub.status.idle": "2022-08-01T01:24:25.174144Z",
     "shell.execute_reply": "2022-08-01T01:24:25.172765Z"
    },
    "papermill": {
     "duration": 1.47592,
     "end_time": "2022-08-01T01:24:25.177514",
     "exception": false,
     "start_time": "2022-08-01T01:24:23.701594",
     "status": "completed"
    },
    "tags": []
   },
   "outputs": [
    {
     "data": {
      "text/plain": [
       "<AxesSubplot:xlabel='fuel', ylabel='count'>"
      ]
     },
     "execution_count": 9,
     "metadata": {},
     "output_type": "execute_result"
    },
    {
     "data": {
      "image/png": "[encoded data removed]",
      "text/plain": [
       "<Figure size 432x288 with 1 Axes>"
      ]
     },
     "metadata": {
      "needs_background": "light"
     },
     "output_type": "display_data"
    }
   ],
   "source": [
    "import seaborn as sns\n",
    "sns.countplot(x=\"fuel\", data=df)"
   ]
  },
  {
   "cell_type": "markdown",
   "id": "4aa74f21",
   "metadata": {
    "papermill": {
     "duration": 0.015846,
     "end_time": "2022-08-01T01:24:25.209704",
     "exception": false,
     "start_time": "2022-08-01T01:24:25.193858",
     "status": "completed"
    },
    "tags": []
   },
   "source": [
    "Observation: Majority of the vehicles are either petrol vehicle or diesel vehicle"
   ]
  },
  {
   "cell_type": "code",
   "execution_count": 10,
   "id": "2be3b8c1",
   "metadata": {
    "execution": {
     "iopub.execute_input": "2022-08-01T01:24:25.244892Z",
     "iopub.status.busy": "2022-08-01T01:24:25.244021Z",
     "iopub.status.idle": "2022-08-01T01:24:25.428356Z",
     "shell.execute_reply": "2022-08-01T01:24:25.427061Z"
    },
    "papermill": {
     "duration": 0.205198,
     "end_time": "2022-08-01T01:24:25.431160",
     "exception": false,
     "start_time": "2022-08-01T01:24:25.225962",
     "status": "completed"
    },
    "tags": []
   },
   "outputs": [
    {
     "data": {
      "text/plain": [
       "<AxesSubplot:xlabel='seller_type', ylabel='count'>"
      ]
     },
     "execution_count": 10,
     "metadata": {},
     "output_type": "execute_result"
    },
    {
     "data": {
      "image/png": "[encoded data removed]",
      "text/plain": [
       "<Figure size 432x288 with 1 Axes>"
      ]
     },
     "metadata": {
      "needs_background": "light"
     },
     "output_type": "display_data"
    }
   ],
   "source": [
    "sns.countplot(x=\"seller_type\", data=df)"
   ]
  },
  {
   "cell_type": "markdown",
   "id": "9b247a7c",
   "metadata": {
    "papermill": {
     "duration": 0.016228,
     "end_time": "2022-08-01T01:24:25.465060",
     "exception": false,
     "start_time": "2022-08-01T01:24:25.448832",
     "status": "completed"
    },
    "tags": []
   },
   "source": [
    "Observation: Individual seller is the largest seller type"
   ]
  },
  {
   "cell_type": "code",
   "execution_count": 11,
   "id": "63820d90",
   "metadata": {
    "execution": {
     "iopub.execute_input": "2022-08-01T01:24:25.500723Z",
     "iopub.status.busy": "2022-08-01T01:24:25.500280Z",
     "iopub.status.idle": "2022-08-01T01:24:25.691891Z",
     "shell.execute_reply": "2022-08-01T01:24:25.690906Z"
    },
    "papermill": {
     "duration": 0.213019,
     "end_time": "2022-08-01T01:24:25.694665",
     "exception": false,
     "start_time": "2022-08-01T01:24:25.481646",
     "status": "completed"
    },
    "tags": []
   },
   "outputs": [
    {
     "data": {
      "text/plain": [
       "<AxesSubplot:xlabel='transmission', ylabel='count'>"
      ]
     },
     "execution_count": 11,
     "metadata": {},
     "output_type": "execute_result"
    },
    {
     "data": {
      "image/png": "[encoded data removed]",
      "text/plain": [
       "<Figure size 432x288 with 1 Axes>"
      ]
     },
     "metadata": {
      "needs_background": "light"
     },
     "output_type": "display_data"
    }
   ],
   "source": [
    "sns.countplot(x=\"transmission\", data=df)"
   ]
  },
  {
   "cell_type": "markdown",
   "id": "dfe53f24",
   "metadata": {
    "papermill": {
     "duration": 0.016553,
     "end_time": "2022-08-01T01:24:25.728686",
     "exception": false,
     "start_time": "2022-08-01T01:24:25.712133",
     "status": "completed"
    },
    "tags": []
   },
   "source": [
    "Observation: Majority of the vehicles transmissions is Manual"
   ]
  },
  {
   "cell_type": "code",
   "execution_count": 12,
   "id": "930d76d2",
   "metadata": {
    "execution": {
     "iopub.execute_input": "2022-08-01T01:24:25.765961Z",
     "iopub.status.busy": "2022-08-01T01:24:25.765101Z",
     "iopub.status.idle": "2022-08-01T01:24:25.973043Z",
     "shell.execute_reply": "2022-08-01T01:24:25.971763Z"
    },
    "papermill": {
     "duration": 0.229834,
     "end_time": "2022-08-01T01:24:25.975988",
     "exception": false,
     "start_time": "2022-08-01T01:24:25.746154",
     "status": "completed"
    },
    "tags": []
   },
   "outputs": [
    {
     "data": {
      "text/plain": [
       "<AxesSubplot:xlabel='owner', ylabel='count'>"
      ]
     },
     "execution_count": 12,
     "metadata": {},
     "output_type": "execute_result"
    },
    {
     "data": {
      "image/png": "[encoded data removed]",
      "text/plain": [
       "<Figure size 432x288 with 1 Axes>"
      ]
     },
     "metadata": {
      "needs_background": "light"
     },
     "output_type": "display_data"
    }
   ],
   "source": [
    "sns.countplot(x=\"owner\", data=df)"
   ]
  },
  {
   "cell_type": "markdown",
   "id": "7ea830b5",
   "metadata": {
    "papermill": {
     "duration": 0.018163,
     "end_time": "2022-08-01T01:24:26.011603",
     "exception": false,
     "start_time": "2022-08-01T01:24:25.993440",
     "status": "completed"
    },
    "tags": []
   },
   "source": [
    "Observation: First owner is the largest owner type"
   ]
  },
  {
   "cell_type": "code",
   "execution_count": 13,
   "id": "896d98b7",
   "metadata": {},
   "outputs": [
    {
     "data": {
      "image/png": "[encoded data removed]",
      "text/plain": [
       "<Figure size 432x288 with 1 Axes>"
      ]
     },
     "metadata": {
      "needs_background": "light"
     },
     "output_type": "display_data"
    }
   ],
   "source": [
    "import seaborn as sns\n",
    "import matplotlib.pyplot as plt\n",
    "sns.scatterplot(data = df, x = \"km_driven\", y = \"selling_price\")\n",
    "plt.show()"
   ]
  },
  {
   "cell_type": "markdown",
   "id": "d3ae7e74",
   "metadata": {
    "papermill": {
     "duration": 0.017665,
     "end_time": "2022-08-01T01:24:26.335366",
     "exception": false,
     "start_time": "2022-08-01T01:24:26.317701",
     "status": "completed"
    },
    "tags": []
   },
   "source": [
    "Observation: selling_price and km_driven are inversely proportional"
   ]
  },
  {
   "cell_type": "code",
   "execution_count": 14,
   "id": "dffe9af1",
   "metadata": {
    "execution": {
     "iopub.execute_input": "2022-08-01T01:24:26.375019Z",
     "iopub.status.busy": "2022-08-01T01:24:26.373995Z",
     "iopub.status.idle": "2022-08-01T01:24:26.404226Z",
     "shell.execute_reply": "2022-08-01T01:24:26.403205Z"
    },
    "papermill": {
     "duration": 0.053353,
     "end_time": "2022-08-01T01:24:26.406909",
     "exception": false,
     "start_time": "2022-08-01T01:24:26.353556",
     "status": "completed"
    },
    "tags": []
   },
   "outputs": [
    {
     "data": {
      "image/png": "[encoded data removed]",
      "text/plain": [
       "<Figure size 432x288 with 1 Axes>"
      ]
     },
     "metadata": {
      "needs_background": "light"
     },
     "output_type": "display_data"
    }
   ],
   "source": [
    "import seaborn as sns\n",
    "import matplotlib.pyplot as plt\n",
    "sns.scatterplot(data = df, x = \"transmission\", y = \"selling_price\")\n",
    "plt.show()"
   ]
  },
  {
   "cell_type": "code",
   "execution_count": 15,
   "id": "2471d253",
   "metadata": {
    "execution": {
     "iopub.execute_input": "2022-08-01T01:24:26.447115Z",
     "iopub.status.busy": "2022-08-01T01:24:26.446428Z",
     "iopub.status.idle": "2022-08-01T01:24:26.483562Z",
     "shell.execute_reply": "2022-08-01T01:24:26.482313Z"
    },
    "papermill": {
     "duration": 0.060892,
     "end_time": "2022-08-01T01:24:26.486461",
     "exception": false,
     "start_time": "2022-08-01T01:24:26.425569",
     "status": "completed"
    },
    "tags": []
   },
   "outputs": [
    {
     "data": {
      "text/html": [
       "<div>\n",
       "<style scoped>\n",
       "    .dataframe tbody tr th:only-of-type {\n",
       "        vertical-align: middle;\n",
       "    }\n",
       "\n",
       "    .dataframe tbody tr th {\n",
       "        vertical-align: top;\n",
       "    }\n",
       "\n",
       "    .dataframe thead th {\n",
       "        text-align: right;\n",
       "    }\n",
       "</style>\n",
       "<table border=\"1\" class=\"dataframe\">\n",
       "  <thead>\n",
       "    <tr style=\"text-align: right;\">\n",
       "      <th></th>\n",
       "      <th>name</th>\n",
       "      <th>selling_price</th>\n",
       "      <th>km_driven</th>\n",
       "      <th>fuel</th>\n",
       "      <th>seller_type</th>\n",
       "      <th>transmission</th>\n",
       "      <th>owner</th>\n",
       "      <th>car_age</th>\n",
       "    </tr>\n",
       "  </thead>\n",
       "  <tbody>\n",
       "    <tr>\n",
       "      <th>0</th>\n",
       "      <td>Maruti 800 AC</td>\n",
       "      <td>60000</td>\n",
       "      <td>70000</td>\n",
       "      <td>Petrol</td>\n",
       "      <td>Individual</td>\n",
       "      <td>Manual</td>\n",
       "      <td>0</td>\n",
       "      <td>15</td>\n",
       "    </tr>\n",
       "    <tr>\n",
       "      <th>1</th>\n",
       "      <td>Maruti Wagon R LXI Minor</td>\n",
       "      <td>135000</td>\n",
       "      <td>50000</td>\n",
       "      <td>Petrol</td>\n",
       "      <td>Individual</td>\n",
       "      <td>Manual</td>\n",
       "      <td>0</td>\n",
       "      <td>15</td>\n",
       "    </tr>\n",
       "    <tr>\n",
       "      <th>2</th>\n",
       "      <td>Hyundai Verna 1.6 SX</td>\n",
       "      <td>600000</td>\n",
       "      <td>100000</td>\n",
       "      <td>Diesel</td>\n",
       "      <td>Individual</td>\n",
       "      <td>Manual</td>\n",
       "      <td>0</td>\n",
       "      <td>10</td>\n",
       "    </tr>\n",
       "    <tr>\n",
       "      <th>3</th>\n",
       "      <td>Datsun RediGO T Option</td>\n",
       "      <td>250000</td>\n",
       "      <td>46000</td>\n",
       "      <td>Petrol</td>\n",
       "      <td>Individual</td>\n",
       "      <td>Manual</td>\n",
       "      <td>0</td>\n",
       "      <td>5</td>\n",
       "    </tr>\n",
       "    <tr>\n",
       "      <th>4</th>\n",
       "      <td>Honda Amaze VX i-DTEC</td>\n",
       "      <td>450000</td>\n",
       "      <td>141000</td>\n",
       "      <td>Diesel</td>\n",
       "      <td>Individual</td>\n",
       "      <td>Manual</td>\n",
       "      <td>1</td>\n",
       "      <td>8</td>\n",
       "    </tr>\n",
       "    <tr>\n",
       "      <th>...</th>\n",
       "      <td>...</td>\n",
       "      <td>...</td>\n",
       "      <td>...</td>\n",
       "      <td>...</td>\n",
       "      <td>...</td>\n",
       "      <td>...</td>\n",
       "      <td>...</td>\n",
       "      <td>...</td>\n",
       "    </tr>\n",
       "    <tr>\n",
       "      <th>4335</th>\n",
       "      <td>Hyundai i20 Magna 1.4 CRDi (Diesel)</td>\n",
       "      <td>409999</td>\n",
       "      <td>80000</td>\n",
       "      <td>Diesel</td>\n",
       "      <td>Individual</td>\n",
       "      <td>Manual</td>\n",
       "      <td>1</td>\n",
       "      <td>8</td>\n",
       "    </tr>\n",
       "    <tr>\n",
       "      <th>4336</th>\n",
       "      <td>Hyundai i20 Magna 1.4 CRDi</td>\n",
       "      <td>409999</td>\n",
       "      <td>80000</td>\n",
       "      <td>Diesel</td>\n",
       "      <td>Individual</td>\n",
       "      <td>Manual</td>\n",
       "      <td>1</td>\n",
       "      <td>8</td>\n",
       "    </tr>\n",
       "    <tr>\n",
       "      <th>4337</th>\n",
       "      <td>Maruti 800 AC BSIII</td>\n",
       "      <td>110000</td>\n",
       "      <td>83000</td>\n",
       "      <td>Petrol</td>\n",
       "      <td>Individual</td>\n",
       "      <td>Manual</td>\n",
       "      <td>1</td>\n",
       "      <td>13</td>\n",
       "    </tr>\n",
       "    <tr>\n",
       "      <th>4338</th>\n",
       "      <td>Hyundai Creta 1.6 CRDi SX Option</td>\n",
       "      <td>865000</td>\n",
       "      <td>90000</td>\n",
       "      <td>Diesel</td>\n",
       "      <td>Individual</td>\n",
       "      <td>Manual</td>\n",
       "      <td>0</td>\n",
       "      <td>6</td>\n",
       "    </tr>\n",
       "    <tr>\n",
       "      <th>4339</th>\n",
       "      <td>Renault KWID RXT</td>\n",
       "      <td>225000</td>\n",
       "      <td>40000</td>\n",
       "      <td>Petrol</td>\n",
       "      <td>Individual</td>\n",
       "      <td>Manual</td>\n",
       "      <td>0</td>\n",
       "      <td>6</td>\n",
       "    </tr>\n",
       "  </tbody>\n",
       "</table>\n",
       "<p>4340 rows × 8 columns</p>\n",
       "</div>"
      ],
      "text/plain": [
       "                                     name  selling_price  km_driven    fuel  \\\n",
       "0                           Maruti 800 AC          60000      70000  Petrol   \n",
       "1                Maruti Wagon R LXI Minor         135000      50000  Petrol   \n",
       "2                    Hyundai Verna 1.6 SX         600000     100000  Diesel   \n",
       "3                  Datsun RediGO T Option         250000      46000  Petrol   \n",
       "4                   Honda Amaze VX i-DTEC         450000     141000  Diesel   \n",
       "...                                   ...            ...        ...     ...   \n",
       "4335  Hyundai i20 Magna 1.4 CRDi (Diesel)         409999      80000  Diesel   \n",
       "4336           Hyundai i20 Magna 1.4 CRDi         409999      80000  Diesel   \n",
       "4337                  Maruti 800 AC BSIII         110000      83000  Petrol   \n",
       "4338     Hyundai Creta 1.6 CRDi SX Option         865000      90000  Diesel   \n",
       "4339                     Renault KWID RXT         225000      40000  Petrol   \n",
       "\n",
       "     seller_type transmission  owner  car_age  \n",
       "0     Individual       Manual      0       15  \n",
       "1     Individual       Manual      0       15  \n",
       "2     Individual       Manual      0       10  \n",
       "3     Individual       Manual      0        5  \n",
       "4     Individual       Manual      1        8  \n",
       "...          ...          ...    ...      ...  \n",
       "4335  Individual       Manual      1        8  \n",
       "4336  Individual       Manual      1        8  \n",
       "4337  Individual       Manual      1       13  \n",
       "4338  Individual       Manual      0        6  \n",
       "4339  Individual       Manual      0        6  \n",
       "\n",
       "[4340 rows x 8 columns]"
      ]
     },
     "execution_count": 15,
     "metadata": {},
     "output_type": "execute_result"
    }
   ],
   "source": [
    "df.replace(to_replace =\"First Owner\", value =0, inplace=True)\n",
    "df.replace(to_replace =\"Second Owner\", value =1, inplace=True)\n",
    "df.replace(to_replace =\"Third Owner\", value =2, inplace=True)\n",
    "df.replace(to_replace =\"Fourth & Above Owner\", value =3, inplace=True)\n",
    "df.replace(to_replace =\"Test Drive Car\", value =4, inplace=True)\n",
    "df"
   ]
  },
  {
   "cell_type": "code",
   "execution_count": 16,
   "id": "da173aec",
   "metadata": {
    "execution": {
     "iopub.execute_input": "2022-08-01T01:24:26.527204Z",
     "iopub.status.busy": "2022-08-01T01:24:26.526404Z",
     "iopub.status.idle": "2022-08-01T01:24:26.903159Z",
     "shell.execute_reply": "2022-08-01T01:24:26.902253Z"
    },
    "papermill": {
     "duration": 0.399893,
     "end_time": "2022-08-01T01:24:26.905605",
     "exception": false,
     "start_time": "2022-08-01T01:24:26.505712",
     "status": "completed"
    },
    "tags": []
   },
   "outputs": [
    {
     "data": {
      "text/plain": [
       "<AxesSubplot:>"
      ]
     },
     "execution_count": 16,
     "metadata": {},
     "output_type": "execute_result"
    },
    {
     "data": {
      "image/png": "[encoded data removed]",
      "text/plain": [
       "<Figure size 864x576 with 2 Axes>"
      ]
     },
     "metadata": {
      "needs_background": "light"
     },
     "output_type": "display_data"
    }
   ],
   "source": [
    "import matplotlib.pyplot as plt \n",
    "%matplotlib inline\n",
    "\n",
    "plt.figure(figsize=(12,8))\n",
    "corr = df.corr()\n",
    "sns.heatmap(corr, annot=True)"
   ]
  },
  {
   "cell_type": "markdown",
   "id": "028efdeb",
   "metadata": {
    "papermill": {
     "duration": 0.0191,
     "end_time": "2022-08-01T01:24:26.944019",
     "exception": false,
     "start_time": "2022-08-01T01:24:26.924919",
     "status": "completed"
    },
    "tags": []
   },
   "source": [
    "Observations\n",
    "- Selling Price and Km Driven -  Inverse Correlation\n",
    "- Selling Price and Owner -  Inverse Correlation\n",
    "- Selling Price and Car age -  Inverse Correlation"
   ]
  },
  {
   "cell_type": "code",
   "execution_count": 17,
   "id": "9276f0f2",
   "metadata": {
    "execution": {
     "iopub.execute_input": "2022-08-01T01:24:26.985668Z",
     "iopub.status.busy": "2022-08-01T01:24:26.984680Z",
     "iopub.status.idle": "2022-08-01T01:24:27.005403Z",
     "shell.execute_reply": "2022-08-01T01:24:27.004038Z"
    },
    "papermill": {
     "duration": 0.044754,
     "end_time": "2022-08-01T01:24:27.008284",
     "exception": false,
     "start_time": "2022-08-01T01:24:26.963530",
     "status": "completed"
    },
    "tags": []
   },
   "outputs": [
    {
     "data": {
      "text/html": [
       "<div>\n",
       "<style scoped>\n",
       "    .dataframe tbody tr th:only-of-type {\n",
       "        vertical-align: middle;\n",
       "    }\n",
       "\n",
       "    .dataframe tbody tr th {\n",
       "        vertical-align: top;\n",
       "    }\n",
       "\n",
       "    .dataframe thead th {\n",
       "        text-align: right;\n",
       "    }\n",
       "</style>\n",
       "<table border=\"1\" class=\"dataframe\">\n",
       "  <thead>\n",
       "    <tr style=\"text-align: right;\">\n",
       "      <th></th>\n",
       "      <th>name</th>\n",
       "      <th>selling_price</th>\n",
       "      <th>km_driven</th>\n",
       "      <th>owner</th>\n",
       "      <th>car_age</th>\n",
       "    </tr>\n",
       "  </thead>\n",
       "  <tbody>\n",
       "    <tr>\n",
       "      <th>0</th>\n",
       "      <td>Maruti 800 AC</td>\n",
       "      <td>60000</td>\n",
       "      <td>70000</td>\n",
       "      <td>0</td>\n",
       "      <td>15</td>\n",
       "    </tr>\n",
       "    <tr>\n",
       "      <th>1</th>\n",
       "      <td>Maruti Wagon R LXI Minor</td>\n",
       "      <td>135000</td>\n",
       "      <td>50000</td>\n",
       "      <td>0</td>\n",
       "      <td>15</td>\n",
       "    </tr>\n",
       "    <tr>\n",
       "      <th>2</th>\n",
       "      <td>Hyundai Verna 1.6 SX</td>\n",
       "      <td>600000</td>\n",
       "      <td>100000</td>\n",
       "      <td>0</td>\n",
       "      <td>10</td>\n",
       "    </tr>\n",
       "    <tr>\n",
       "      <th>3</th>\n",
       "      <td>Datsun RediGO T Option</td>\n",
       "      <td>250000</td>\n",
       "      <td>46000</td>\n",
       "      <td>0</td>\n",
       "      <td>5</td>\n",
       "    </tr>\n",
       "    <tr>\n",
       "      <th>4</th>\n",
       "      <td>Honda Amaze VX i-DTEC</td>\n",
       "      <td>450000</td>\n",
       "      <td>141000</td>\n",
       "      <td>1</td>\n",
       "      <td>8</td>\n",
       "    </tr>\n",
       "    <tr>\n",
       "      <th>...</th>\n",
       "      <td>...</td>\n",
       "      <td>...</td>\n",
       "      <td>...</td>\n",
       "      <td>...</td>\n",
       "      <td>...</td>\n",
       "    </tr>\n",
       "    <tr>\n",
       "      <th>4335</th>\n",
       "      <td>Hyundai i20 Magna 1.4 CRDi (Diesel)</td>\n",
       "      <td>409999</td>\n",
       "      <td>80000</td>\n",
       "      <td>1</td>\n",
       "      <td>8</td>\n",
       "    </tr>\n",
       "    <tr>\n",
       "      <th>4336</th>\n",
       "      <td>Hyundai i20 Magna 1.4 CRDi</td>\n",
       "      <td>409999</td>\n",
       "      <td>80000</td>\n",
       "      <td>1</td>\n",
       "      <td>8</td>\n",
       "    </tr>\n",
       "    <tr>\n",
       "      <th>4337</th>\n",
       "      <td>Maruti 800 AC BSIII</td>\n",
       "      <td>110000</td>\n",
       "      <td>83000</td>\n",
       "      <td>1</td>\n",
       "      <td>13</td>\n",
       "    </tr>\n",
       "    <tr>\n",
       "      <th>4338</th>\n",
       "      <td>Hyundai Creta 1.6 CRDi SX Option</td>\n",
       "      <td>865000</td>\n",
       "      <td>90000</td>\n",
       "      <td>0</td>\n",
       "      <td>6</td>\n",
       "    </tr>\n",
       "    <tr>\n",
       "      <th>4339</th>\n",
       "      <td>Renault KWID RXT</td>\n",
       "      <td>225000</td>\n",
       "      <td>40000</td>\n",
       "      <td>0</td>\n",
       "      <td>6</td>\n",
       "    </tr>\n",
       "  </tbody>\n",
       "</table>\n",
       "<p>4340 rows × 5 columns</p>\n",
       "</div>"
      ],
      "text/plain": [
       "                                     name  selling_price  km_driven  owner  \\\n",
       "0                           Maruti 800 AC          60000      70000      0   \n",
       "1                Maruti Wagon R LXI Minor         135000      50000      0   \n",
       "2                    Hyundai Verna 1.6 SX         600000     100000      0   \n",
       "3                  Datsun RediGO T Option         250000      46000      0   \n",
       "4                   Honda Amaze VX i-DTEC         450000     141000      1   \n",
       "...                                   ...            ...        ...    ...   \n",
       "4335  Hyundai i20 Magna 1.4 CRDi (Diesel)         409999      80000      1   \n",
       "4336           Hyundai i20 Magna 1.4 CRDi         409999      80000      1   \n",
       "4337                  Maruti 800 AC BSIII         110000      83000      1   \n",
       "4338     Hyundai Creta 1.6 CRDi SX Option         865000      90000      0   \n",
       "4339                     Renault KWID RXT         225000      40000      0   \n",
       "\n",
       "      car_age  \n",
       "0          15  \n",
       "1          15  \n",
       "2          10  \n",
       "3           5  \n",
       "4           8  \n",
       "...       ...  \n",
       "4335        8  \n",
       "4336        8  \n",
       "4337       13  \n",
       "4338        6  \n",
       "4339        6  \n",
       "\n",
       "[4340 rows x 5 columns]"
      ]
     },
     "execution_count": 17,
     "metadata": {},
     "output_type": "execute_result"
    }
   ],
   "source": [
    "df2 = df.drop([\"fuel\",\"seller_type\",\"transmission\"], axis='columns')\n",
    "df2"
   ]
  },
  {
   "cell_type": "code",
   "execution_count": 18,
   "id": "561fea30",
   "metadata": {
    "execution": {
     "iopub.execute_input": "2022-08-01T01:24:27.049966Z",
     "iopub.status.busy": "2022-08-01T01:24:27.049510Z",
     "iopub.status.idle": "2022-08-01T01:24:27.059662Z",
     "shell.execute_reply": "2022-08-01T01:24:27.058095Z"
    },
    "papermill": {
     "duration": 0.035124,
     "end_time": "2022-08-01T01:24:27.063543",
     "exception": false,
     "start_time": "2022-08-01T01:24:27.028419",
     "status": "completed"
    },
    "tags": []
   },
   "outputs": [
    {
     "data": {
      "text/plain": [
       "array(['Maruti 800 AC', 'Maruti Wagon R LXI Minor',\n",
       "       'Hyundai Verna 1.6 SX', ..., 'Mahindra Verito 1.5 D6 BSIII',\n",
       "       'Toyota Innova 2.5 VX (Diesel) 8 Seater BS IV',\n",
       "       'Hyundai i20 Magna 1.4 CRDi'], dtype=object)"
      ]
     },
     "execution_count": 18,
     "metadata": {},
     "output_type": "execute_result"
    }
   ],
   "source": [
    "df[\"name\"].unique()"
   ]
  },
  {
   "cell_type": "markdown",
   "id": "9435ad04",
   "metadata": {
    "papermill": {
     "duration": 0.020354,
     "end_time": "2022-08-01T01:24:27.104365",
     "exception": false,
     "start_time": "2022-08-01T01:24:27.084011",
     "status": "completed"
    },
    "tags": []
   },
   "source": [
    "#### **Creating dummy variables for car model**"
   ]
  },
  {
   "cell_type": "code",
   "execution_count": 19,
   "id": "5dff4323",
   "metadata": {
    "execution": {
     "iopub.execute_input": "2022-08-01T01:24:27.148253Z",
     "iopub.status.busy": "2022-08-01T01:24:27.147159Z",
     "iopub.status.idle": "2022-08-01T01:24:27.215152Z",
     "shell.execute_reply": "2022-08-01T01:24:27.213838Z"
    },
    "papermill": {
     "duration": 0.093083,
     "end_time": "2022-08-01T01:24:27.217880",
     "exception": false,
     "start_time": "2022-08-01T01:24:27.124797",
     "status": "completed"
    },
    "tags": []
   },
   "outputs": [
    {
     "data": {
      "text/html": [
       "<div>\n",
       "<style scoped>\n",
       "    .dataframe tbody tr th:only-of-type {\n",
       "        vertical-align: middle;\n",
       "    }\n",
       "\n",
       "    .dataframe tbody tr th {\n",
       "        vertical-align: top;\n",
       "    }\n",
       "\n",
       "    .dataframe thead th {\n",
       "        text-align: right;\n",
       "    }\n",
       "</style>\n",
       "<table border=\"1\" class=\"dataframe\">\n",
       "  <thead>\n",
       "    <tr style=\"text-align: right;\">\n",
       "      <th></th>\n",
       "      <th>Ambassador CLASSIC 1500 DSL AC</th>\n",
       "      <th>Ambassador Classic 2000 Dsz</th>\n",
       "      <th>Ambassador Grand 1800 ISZ MPFI PW CL</th>\n",
       "      <th>Audi A4 1.8 TFSI</th>\n",
       "      <th>Audi A4 2.0 TDI</th>\n",
       "      <th>Audi A4 2.0 TDI 177 Bhp Premium Plus</th>\n",
       "      <th>Audi A4 3.0 TDI Quattro</th>\n",
       "      <th>Audi A4 30 TFSI Technology</th>\n",
       "      <th>Audi A4 35 TDI Premium</th>\n",
       "      <th>Audi A4 35 TDI Premium Plus</th>\n",
       "      <th>...</th>\n",
       "      <th>Volkswagen Vento Diesel Trendline</th>\n",
       "      <th>Volkswagen Vento IPL II Diesel Trendline</th>\n",
       "      <th>Volkswagen Vento Magnific 1.6 Highline</th>\n",
       "      <th>Volkswagen Vento New Diesel Highline</th>\n",
       "      <th>Volkswagen Vento Petrol Highline</th>\n",
       "      <th>Volkswagen Vento Petrol Highline AT</th>\n",
       "      <th>Volvo V40 D3 R Design</th>\n",
       "      <th>Volvo XC 90 D5 Inscription BSIV</th>\n",
       "      <th>Volvo XC60 D3 Kinetic</th>\n",
       "      <th>Volvo XC60 D5 Inscription</th>\n",
       "    </tr>\n",
       "  </thead>\n",
       "  <tbody>\n",
       "    <tr>\n",
       "      <th>0</th>\n",
       "      <td>0</td>\n",
       "      <td>0</td>\n",
       "      <td>0</td>\n",
       "      <td>0</td>\n",
       "      <td>0</td>\n",
       "      <td>0</td>\n",
       "      <td>0</td>\n",
       "      <td>0</td>\n",
       "      <td>0</td>\n",
       "      <td>0</td>\n",
       "      <td>...</td>\n",
       "      <td>0</td>\n",
       "      <td>0</td>\n",
       "      <td>0</td>\n",
       "      <td>0</td>\n",
       "      <td>0</td>\n",
       "      <td>0</td>\n",
       "      <td>0</td>\n",
       "      <td>0</td>\n",
       "      <td>0</td>\n",
       "      <td>0</td>\n",
       "    </tr>\n",
       "    <tr>\n",
       "      <th>1</th>\n",
       "      <td>0</td>\n",
       "      <td>0</td>\n",
       "      <td>0</td>\n",
       "      <td>0</td>\n",
       "      <td>0</td>\n",
       "      <td>0</td>\n",
       "      <td>0</td>\n",
       "      <td>0</td>\n",
       "      <td>0</td>\n",
       "      <td>0</td>\n",
       "      <td>...</td>\n",
       "      <td>0</td>\n",
       "      <td>0</td>\n",
       "      <td>0</td>\n",
       "      <td>0</td>\n",
       "      <td>0</td>\n",
       "      <td>0</td>\n",
       "      <td>0</td>\n",
       "      <td>0</td>\n",
       "      <td>0</td>\n",
       "      <td>0</td>\n",
       "    </tr>\n",
       "    <tr>\n",
       "      <th>2</th>\n",
       "      <td>0</td>\n",
       "      <td>0</td>\n",
       "      <td>0</td>\n",
       "      <td>0</td>\n",
       "      <td>0</td>\n",
       "      <td>0</td>\n",
       "      <td>0</td>\n",
       "      <td>0</td>\n",
       "      <td>0</td>\n",
       "      <td>0</td>\n",
       "      <td>...</td>\n",
       "      <td>0</td>\n",
       "      <td>0</td>\n",
       "      <td>0</td>\n",
       "      <td>0</td>\n",
       "      <td>0</td>\n",
       "      <td>0</td>\n",
       "      <td>0</td>\n",
       "      <td>0</td>\n",
       "      <td>0</td>\n",
       "      <td>0</td>\n",
       "    </tr>\n",
       "    <tr>\n",
       "      <th>3</th>\n",
       "      <td>0</td>\n",
       "      <td>0</td>\n",
       "      <td>0</td>\n",
       "      <td>0</td>\n",
       "      <td>0</td>\n",
       "      <td>0</td>\n",
       "      <td>0</td>\n",
       "      <td>0</td>\n",
       "      <td>0</td>\n",
       "      <td>0</td>\n",
       "      <td>...</td>\n",
       "      <td>0</td>\n",
       "      <td>0</td>\n",
       "      <td>0</td>\n",
       "      <td>0</td>\n",
       "      <td>0</td>\n",
       "      <td>0</td>\n",
       "      <td>0</td>\n",
       "      <td>0</td>\n",
       "      <td>0</td>\n",
       "      <td>0</td>\n",
       "    </tr>\n",
       "    <tr>\n",
       "      <th>4</th>\n",
       "      <td>0</td>\n",
       "      <td>0</td>\n",
       "      <td>0</td>\n",
       "      <td>0</td>\n",
       "      <td>0</td>\n",
       "      <td>0</td>\n",
       "      <td>0</td>\n",
       "      <td>0</td>\n",
       "      <td>0</td>\n",
       "      <td>0</td>\n",
       "      <td>...</td>\n",
       "      <td>0</td>\n",
       "      <td>0</td>\n",
       "      <td>0</td>\n",
       "      <td>0</td>\n",
       "      <td>0</td>\n",
       "      <td>0</td>\n",
       "      <td>0</td>\n",
       "      <td>0</td>\n",
       "      <td>0</td>\n",
       "      <td>0</td>\n",
       "    </tr>\n",
       "    <tr>\n",
       "      <th>...</th>\n",
       "      <td>...</td>\n",
       "      <td>...</td>\n",
       "      <td>...</td>\n",
       "      <td>...</td>\n",
       "      <td>...</td>\n",
       "      <td>...</td>\n",
       "      <td>...</td>\n",
       "      <td>...</td>\n",
       "      <td>...</td>\n",
       "      <td>...</td>\n",
       "      <td>...</td>\n",
       "      <td>...</td>\n",
       "      <td>...</td>\n",
       "      <td>...</td>\n",
       "      <td>...</td>\n",
       "      <td>...</td>\n",
       "      <td>...</td>\n",
       "      <td>...</td>\n",
       "      <td>...</td>\n",
       "      <td>...</td>\n",
       "      <td>...</td>\n",
       "    </tr>\n",
       "    <tr>\n",
       "      <th>4335</th>\n",
       "      <td>0</td>\n",
       "      <td>0</td>\n",
       "      <td>0</td>\n",
       "      <td>0</td>\n",
       "      <td>0</td>\n",
       "      <td>0</td>\n",
       "      <td>0</td>\n",
       "      <td>0</td>\n",
       "      <td>0</td>\n",
       "      <td>0</td>\n",
       "      <td>...</td>\n",
       "      <td>0</td>\n",
       "      <td>0</td>\n",
       "      <td>0</td>\n",
       "      <td>0</td>\n",
       "      <td>0</td>\n",
       "      <td>0</td>\n",
       "      <td>0</td>\n",
       "      <td>0</td>\n",
       "      <td>0</td>\n",
       "      <td>0</td>\n",
       "    </tr>\n",
       "    <tr>\n",
       "      <th>4336</th>\n",
       "      <td>0</td>\n",
       "      <td>0</td>\n",
       "      <td>0</td>\n",
       "      <td>0</td>\n",
       "      <td>0</td>\n",
       "      <td>0</td>\n",
       "      <td>0</td>\n",
       "      <td>0</td>\n",
       "      <td>0</td>\n",
       "      <td>0</td>\n",
       "      <td>...</td>\n",
       "      <td>0</td>\n",
       "      <td>0</td>\n",
       "      <td>0</td>\n",
       "      <td>0</td>\n",
       "      <td>0</td>\n",
       "      <td>0</td>\n",
       "      <td>0</td>\n",
       "      <td>0</td>\n",
       "      <td>0</td>\n",
       "      <td>0</td>\n",
       "    </tr>\n",
       "    <tr>\n",
       "      <th>4337</th>\n",
       "      <td>0</td>\n",
       "      <td>0</td>\n",
       "      <td>0</td>\n",
       "      <td>0</td>\n",
       "      <td>0</td>\n",
       "      <td>0</td>\n",
       "      <td>0</td>\n",
       "      <td>0</td>\n",
       "      <td>0</td>\n",
       "      <td>0</td>\n",
       "      <td>...</td>\n",
       "      <td>0</td>\n",
       "      <td>0</td>\n",
       "      <td>0</td>\n",
       "      <td>0</td>\n",
       "      <td>0</td>\n",
       "      <td>0</td>\n",
       "      <td>0</td>\n",
       "      <td>0</td>\n",
       "      <td>0</td>\n",
       "      <td>0</td>\n",
       "    </tr>\n",
       "    <tr>\n",
       "      <th>4338</th>\n",
       "      <td>0</td>\n",
       "      <td>0</td>\n",
       "      <td>0</td>\n",
       "      <td>0</td>\n",
       "      <td>0</td>\n",
       "      <td>0</td>\n",
       "      <td>0</td>\n",
       "      <td>0</td>\n",
       "      <td>0</td>\n",
       "      <td>0</td>\n",
       "      <td>...</td>\n",
       "      <td>0</td>\n",
       "      <td>0</td>\n",
       "      <td>0</td>\n",
       "      <td>0</td>\n",
       "      <td>0</td>\n",
       "      <td>0</td>\n",
       "      <td>0</td>\n",
       "      <td>0</td>\n",
       "      <td>0</td>\n",
       "      <td>0</td>\n",
       "    </tr>\n",
       "    <tr>\n",
       "      <th>4339</th>\n",
       "      <td>0</td>\n",
       "      <td>0</td>\n",
       "      <td>0</td>\n",
       "      <td>0</td>\n",
       "      <td>0</td>\n",
       "      <td>0</td>\n",
       "      <td>0</td>\n",
       "      <td>0</td>\n",
       "      <td>0</td>\n",
       "      <td>0</td>\n",
       "      <td>...</td>\n",
       "      <td>0</td>\n",
       "      <td>0</td>\n",
       "      <td>0</td>\n",
       "      <td>0</td>\n",
       "      <td>0</td>\n",
       "      <td>0</td>\n",
       "      <td>0</td>\n",
       "      <td>0</td>\n",
       "      <td>0</td>\n",
       "      <td>0</td>\n",
       "    </tr>\n",
       "  </tbody>\n",
       "</table>\n",
       "<p>4340 rows × 1491 columns</p>\n",
       "</div>"
      ],
      "text/plain": [
       "      Ambassador CLASSIC 1500 DSL AC  Ambassador Classic 2000 Dsz  \\\n",
       "0                                  0                            0   \n",
       "1                                  0                            0   \n",
       "2                                  0                            0   \n",
       "3                                  0                            0   \n",
       "4                                  0                            0   \n",
       "...                              ...                          ...   \n",
       "4335                               0                            0   \n",
       "4336                               0                            0   \n",
       "4337                               0                            0   \n",
       "4338                               0                            0   \n",
       "4339                               0                            0   \n",
       "\n",
       "      Ambassador Grand 1800 ISZ MPFI PW CL  Audi A4 1.8 TFSI  Audi A4 2.0 TDI  \\\n",
       "0                                        0                 0                0   \n",
       "1                                        0                 0                0   \n",
       "2                                        0                 0                0   \n",
       "3                                        0                 0                0   \n",
       "4                                        0                 0                0   \n",
       "...                                    ...               ...              ...   \n",
       "4335                                     0                 0                0   \n",
       "4336                                     0                 0                0   \n",
       "4337                                     0                 0                0   \n",
       "4338                                     0                 0                0   \n",
       "4339                                     0                 0                0   \n",
       "\n",
       "      Audi A4 2.0 TDI 177 Bhp Premium Plus  Audi A4 3.0 TDI Quattro  \\\n",
       "0                                        0                        0   \n",
       "1                                        0                        0   \n",
       "2                                        0                        0   \n",
       "3                                        0                        0   \n",
       "4                                        0                        0   \n",
       "...                                    ...                      ...   \n",
       "4335                                     0                        0   \n",
       "4336                                     0                        0   \n",
       "4337                                     0                        0   \n",
       "4338                                     0                        0   \n",
       "4339                                     0                        0   \n",
       "\n",
       "      Audi A4 30 TFSI Technology  Audi A4 35 TDI Premium  \\\n",
       "0                              0                       0   \n",
       "1                              0                       0   \n",
       "2                              0                       0   \n",
       "3                              0                       0   \n",
       "4                              0                       0   \n",
       "...                          ...                     ...   \n",
       "4335                           0                       0   \n",
       "4336                           0                       0   \n",
       "4337                           0                       0   \n",
       "4338                           0                       0   \n",
       "4339                           0                       0   \n",
       "\n",
       "      Audi A4 35 TDI Premium Plus  ...  Volkswagen Vento Diesel Trendline  \\\n",
       "0                               0  ...                                  0   \n",
       "1                               0  ...                                  0   \n",
       "2                               0  ...                                  0   \n",
       "3                               0  ...                                  0   \n",
       "4                               0  ...                                  0   \n",
       "...                           ...  ...                                ...   \n",
       "4335                            0  ...                                  0   \n",
       "4336                            0  ...                                  0   \n",
       "4337                            0  ...                                  0   \n",
       "4338                            0  ...                                  0   \n",
       "4339                            0  ...                                  0   \n",
       "\n",
       "      Volkswagen Vento IPL II Diesel Trendline  \\\n",
       "0                                            0   \n",
       "1                                            0   \n",
       "2                                            0   \n",
       "3                                            0   \n",
       "4                                            0   \n",
       "...                                        ...   \n",
       "4335                                         0   \n",
       "4336                                         0   \n",
       "4337                                         0   \n",
       "4338                                         0   \n",
       "4339                                         0   \n",
       "\n",
       "      Volkswagen Vento Magnific 1.6 Highline  \\\n",
       "0                                          0   \n",
       "1                                          0   \n",
       "2                                          0   \n",
       "3                                          0   \n",
       "4                                          0   \n",
       "...                                      ...   \n",
       "4335                                       0   \n",
       "4336                                       0   \n",
       "4337                                       0   \n",
       "4338                                       0   \n",
       "4339                                       0   \n",
       "\n",
       "      Volkswagen Vento New Diesel Highline  Volkswagen Vento Petrol Highline  \\\n",
       "0                                        0                                 0   \n",
       "1                                        0                                 0   \n",
       "2                                        0                                 0   \n",
       "3                                        0                                 0   \n",
       "4                                        0                                 0   \n",
       "...                                    ...                               ...   \n",
       "4335                                     0                                 0   \n",
       "4336                                     0                                 0   \n",
       "4337                                     0                                 0   \n",
       "4338                                     0                                 0   \n",
       "4339                                     0                                 0   \n",
       "\n",
       "      Volkswagen Vento Petrol Highline AT  Volvo V40 D3 R Design  \\\n",
       "0                                       0                      0   \n",
       "1                                       0                      0   \n",
       "2                                       0                      0   \n",
       "3                                       0                      0   \n",
       "4                                       0                      0   \n",
       "...                                   ...                    ...   \n",
       "4335                                    0                      0   \n",
       "4336                                    0                      0   \n",
       "4337                                    0                      0   \n",
       "4338                                    0                      0   \n",
       "4339                                    0                      0   \n",
       "\n",
       "      Volvo XC 90 D5 Inscription BSIV  Volvo XC60 D3 Kinetic  \\\n",
       "0                                   0                      0   \n",
       "1                                   0                      0   \n",
       "2                                   0                      0   \n",
       "3                                   0                      0   \n",
       "4                                   0                      0   \n",
       "...                               ...                    ...   \n",
       "4335                                0                      0   \n",
       "4336                                0                      0   \n",
       "4337                                0                      0   \n",
       "4338                                0                      0   \n",
       "4339                                0                      0   \n",
       "\n",
       "      Volvo XC60 D5 Inscription  \n",
       "0                             0  \n",
       "1                             0  \n",
       "2                             0  \n",
       "3                             0  \n",
       "4                             0  \n",
       "...                         ...  \n",
       "4335                          0  \n",
       "4336                          0  \n",
       "4337                          0  \n",
       "4338                          0  \n",
       "4339                          0  \n",
       "\n",
       "[4340 rows x 1491 columns]"
      ]
     },
     "execution_count": 19,
     "metadata": {},
     "output_type": "execute_result"
    }
   ],
   "source": [
    "dummies = pd.get_dummies(df.name)\n",
    "dummies"
   ]
  },
  {
   "cell_type": "code",
   "execution_count": 20,
   "id": "2d5c128f",
   "metadata": {
    "execution": {
     "iopub.execute_input": "2022-08-01T01:24:27.262649Z",
     "iopub.status.busy": "2022-08-01T01:24:27.262003Z",
     "iopub.status.idle": "2022-08-01T01:24:27.270938Z",
     "shell.execute_reply": "2022-08-01T01:24:27.269629Z"
    },
    "papermill": {
     "duration": 0.034979,
     "end_time": "2022-08-01T01:24:27.273910",
     "exception": false,
     "start_time": "2022-08-01T01:24:27.238931",
     "status": "completed"
    },
    "tags": []
   },
   "outputs": [],
   "source": [
    "df3 = pd.concat([df2,dummies],axis='columns')"
   ]
  },
  {
   "cell_type": "markdown",
   "id": "fd37ff13",
   "metadata": {
    "papermill": {
     "duration": 0.021063,
     "end_time": "2022-08-01T01:24:27.315870",
     "exception": false,
     "start_time": "2022-08-01T01:24:27.294807",
     "status": "completed"
    },
    "tags": []
   },
   "source": [
    "**Now, Drop one column to avoid dummy variable trap**"
   ]
  },
  {
   "cell_type": "code",
   "execution_count": 21,
   "id": "c7782e89",
   "metadata": {
    "execution": {
     "iopub.execute_input": "2022-08-01T01:24:27.361782Z",
     "iopub.status.busy": "2022-08-01T01:24:27.360943Z",
     "iopub.status.idle": "2022-08-01T01:24:27.403922Z",
     "shell.execute_reply": "2022-08-01T01:24:27.402714Z"
    },
    "papermill": {
     "duration": 0.069844,
     "end_time": "2022-08-01T01:24:27.406691",
     "exception": false,
     "start_time": "2022-08-01T01:24:27.336847",
     "status": "completed"
    },
    "tags": []
   },
   "outputs": [
    {
     "data": {
      "text/html": [
       "<div>\n",
       "<style scoped>\n",
       "    .dataframe tbody tr th:only-of-type {\n",
       "        vertical-align: middle;\n",
       "    }\n",
       "\n",
       "    .dataframe tbody tr th {\n",
       "        vertical-align: top;\n",
       "    }\n",
       "\n",
       "    .dataframe thead th {\n",
       "        text-align: right;\n",
       "    }\n",
       "</style>\n",
       "<table border=\"1\" class=\"dataframe\">\n",
       "  <thead>\n",
       "    <tr style=\"text-align: right;\">\n",
       "      <th></th>\n",
       "      <th>selling_price</th>\n",
       "      <th>km_driven</th>\n",
       "      <th>owner</th>\n",
       "      <th>car_age</th>\n",
       "      <th>Ambassador CLASSIC 1500 DSL AC</th>\n",
       "      <th>Ambassador Classic 2000 Dsz</th>\n",
       "      <th>Ambassador Grand 1800 ISZ MPFI PW CL</th>\n",
       "      <th>Audi A4 1.8 TFSI</th>\n",
       "      <th>Audi A4 2.0 TDI</th>\n",
       "      <th>Audi A4 2.0 TDI 177 Bhp Premium Plus</th>\n",
       "      <th>...</th>\n",
       "      <th>Volkswagen Vento Diesel Style Limited Edition</th>\n",
       "      <th>Volkswagen Vento Diesel Trendline</th>\n",
       "      <th>Volkswagen Vento IPL II Diesel Trendline</th>\n",
       "      <th>Volkswagen Vento Magnific 1.6 Highline</th>\n",
       "      <th>Volkswagen Vento New Diesel Highline</th>\n",
       "      <th>Volkswagen Vento Petrol Highline</th>\n",
       "      <th>Volkswagen Vento Petrol Highline AT</th>\n",
       "      <th>Volvo V40 D3 R Design</th>\n",
       "      <th>Volvo XC 90 D5 Inscription BSIV</th>\n",
       "      <th>Volvo XC60 D3 Kinetic</th>\n",
       "    </tr>\n",
       "  </thead>\n",
       "  <tbody>\n",
       "    <tr>\n",
       "      <th>0</th>\n",
       "      <td>60000</td>\n",
       "      <td>70000</td>\n",
       "      <td>0</td>\n",
       "      <td>15</td>\n",
       "      <td>0</td>\n",
       "      <td>0</td>\n",
       "      <td>0</td>\n",
       "      <td>0</td>\n",
       "      <td>0</td>\n",
       "      <td>0</td>\n",
       "      <td>...</td>\n",
       "      <td>0</td>\n",
       "      <td>0</td>\n",
       "      <td>0</td>\n",
       "      <td>0</td>\n",
       "      <td>0</td>\n",
       "      <td>0</td>\n",
       "      <td>0</td>\n",
       "      <td>0</td>\n",
       "      <td>0</td>\n",
       "      <td>0</td>\n",
       "    </tr>\n",
       "    <tr>\n",
       "      <th>1</th>\n",
       "      <td>135000</td>\n",
       "      <td>50000</td>\n",
       "      <td>0</td>\n",
       "      <td>15</td>\n",
       "      <td>0</td>\n",
       "      <td>0</td>\n",
       "      <td>0</td>\n",
       "      <td>0</td>\n",
       "      <td>0</td>\n",
       "      <td>0</td>\n",
       "      <td>...</td>\n",
       "      <td>0</td>\n",
       "      <td>0</td>\n",
       "      <td>0</td>\n",
       "      <td>0</td>\n",
       "      <td>0</td>\n",
       "      <td>0</td>\n",
       "      <td>0</td>\n",
       "      <td>0</td>\n",
       "      <td>0</td>\n",
       "      <td>0</td>\n",
       "    </tr>\n",
       "    <tr>\n",
       "      <th>2</th>\n",
       "      <td>600000</td>\n",
       "      <td>100000</td>\n",
       "      <td>0</td>\n",
       "      <td>10</td>\n",
       "      <td>0</td>\n",
       "      <td>0</td>\n",
       "      <td>0</td>\n",
       "      <td>0</td>\n",
       "      <td>0</td>\n",
       "      <td>0</td>\n",
       "      <td>...</td>\n",
       "      <td>0</td>\n",
       "      <td>0</td>\n",
       "      <td>0</td>\n",
       "      <td>0</td>\n",
       "      <td>0</td>\n",
       "      <td>0</td>\n",
       "      <td>0</td>\n",
       "      <td>0</td>\n",
       "      <td>0</td>\n",
       "      <td>0</td>\n",
       "    </tr>\n",
       "    <tr>\n",
       "      <th>3</th>\n",
       "      <td>250000</td>\n",
       "      <td>46000</td>\n",
       "      <td>0</td>\n",
       "      <td>5</td>\n",
       "      <td>0</td>\n",
       "      <td>0</td>\n",
       "      <td>0</td>\n",
       "      <td>0</td>\n",
       "      <td>0</td>\n",
       "      <td>0</td>\n",
       "      <td>...</td>\n",
       "      <td>0</td>\n",
       "      <td>0</td>\n",
       "      <td>0</td>\n",
       "      <td>0</td>\n",
       "      <td>0</td>\n",
       "      <td>0</td>\n",
       "      <td>0</td>\n",
       "      <td>0</td>\n",
       "      <td>0</td>\n",
       "      <td>0</td>\n",
       "    </tr>\n",
       "    <tr>\n",
       "      <th>4</th>\n",
       "      <td>450000</td>\n",
       "      <td>141000</td>\n",
       "      <td>1</td>\n",
       "      <td>8</td>\n",
       "      <td>0</td>\n",
       "      <td>0</td>\n",
       "      <td>0</td>\n",
       "      <td>0</td>\n",
       "      <td>0</td>\n",
       "      <td>0</td>\n",
       "      <td>...</td>\n",
       "      <td>0</td>\n",
       "      <td>0</td>\n",
       "      <td>0</td>\n",
       "      <td>0</td>\n",
       "      <td>0</td>\n",
       "      <td>0</td>\n",
       "      <td>0</td>\n",
       "      <td>0</td>\n",
       "      <td>0</td>\n",
       "      <td>0</td>\n",
       "    </tr>\n",
       "    <tr>\n",
       "      <th>...</th>\n",
       "      <td>...</td>\n",
       "      <td>...</td>\n",
       "      <td>...</td>\n",
       "      <td>...</td>\n",
       "      <td>...</td>\n",
       "      <td>...</td>\n",
       "      <td>...</td>\n",
       "      <td>...</td>\n",
       "      <td>...</td>\n",
       "      <td>...</td>\n",
       "      <td>...</td>\n",
       "      <td>...</td>\n",
       "      <td>...</td>\n",
       "      <td>...</td>\n",
       "      <td>...</td>\n",
       "      <td>...</td>\n",
       "      <td>...</td>\n",
       "      <td>...</td>\n",
       "      <td>...</td>\n",
       "      <td>...</td>\n",
       "      <td>...</td>\n",
       "    </tr>\n",
       "    <tr>\n",
       "      <th>4335</th>\n",
       "      <td>409999</td>\n",
       "      <td>80000</td>\n",
       "      <td>1</td>\n",
       "      <td>8</td>\n",
       "      <td>0</td>\n",
       "      <td>0</td>\n",
       "      <td>0</td>\n",
       "      <td>0</td>\n",
       "      <td>0</td>\n",
       "      <td>0</td>\n",
       "      <td>...</td>\n",
       "      <td>0</td>\n",
       "      <td>0</td>\n",
       "      <td>0</td>\n",
       "      <td>0</td>\n",
       "      <td>0</td>\n",
       "      <td>0</td>\n",
       "      <td>0</td>\n",
       "      <td>0</td>\n",
       "      <td>0</td>\n",
       "      <td>0</td>\n",
       "    </tr>\n",
       "    <tr>\n",
       "      <th>4336</th>\n",
       "      <td>409999</td>\n",
       "      <td>80000</td>\n",
       "      <td>1</td>\n",
       "      <td>8</td>\n",
       "      <td>0</td>\n",
       "      <td>0</td>\n",
       "      <td>0</td>\n",
       "      <td>0</td>\n",
       "      <td>0</td>\n",
       "      <td>0</td>\n",
       "      <td>...</td>\n",
       "      <td>0</td>\n",
       "      <td>0</td>\n",
       "      <td>0</td>\n",
       "      <td>0</td>\n",
       "      <td>0</td>\n",
       "      <td>0</td>\n",
       "      <td>0</td>\n",
       "      <td>0</td>\n",
       "      <td>0</td>\n",
       "      <td>0</td>\n",
       "    </tr>\n",
       "    <tr>\n",
       "      <th>4337</th>\n",
       "      <td>110000</td>\n",
       "      <td>83000</td>\n",
       "      <td>1</td>\n",
       "      <td>13</td>\n",
       "      <td>0</td>\n",
       "      <td>0</td>\n",
       "      <td>0</td>\n",
       "      <td>0</td>\n",
       "      <td>0</td>\n",
       "      <td>0</td>\n",
       "      <td>...</td>\n",
       "      <td>0</td>\n",
       "      <td>0</td>\n",
       "      <td>0</td>\n",
       "      <td>0</td>\n",
       "      <td>0</td>\n",
       "      <td>0</td>\n",
       "      <td>0</td>\n",
       "      <td>0</td>\n",
       "      <td>0</td>\n",
       "      <td>0</td>\n",
       "    </tr>\n",
       "    <tr>\n",
       "      <th>4338</th>\n",
       "      <td>865000</td>\n",
       "      <td>90000</td>\n",
       "      <td>0</td>\n",
       "      <td>6</td>\n",
       "      <td>0</td>\n",
       "      <td>0</td>\n",
       "      <td>0</td>\n",
       "      <td>0</td>\n",
       "      <td>0</td>\n",
       "      <td>0</td>\n",
       "      <td>...</td>\n",
       "      <td>0</td>\n",
       "      <td>0</td>\n",
       "      <td>0</td>\n",
       "      <td>0</td>\n",
       "      <td>0</td>\n",
       "      <td>0</td>\n",
       "      <td>0</td>\n",
       "      <td>0</td>\n",
       "      <td>0</td>\n",
       "      <td>0</td>\n",
       "    </tr>\n",
       "    <tr>\n",
       "      <th>4339</th>\n",
       "      <td>225000</td>\n",
       "      <td>40000</td>\n",
       "      <td>0</td>\n",
       "      <td>6</td>\n",
       "      <td>0</td>\n",
       "      <td>0</td>\n",
       "      <td>0</td>\n",
       "      <td>0</td>\n",
       "      <td>0</td>\n",
       "      <td>0</td>\n",
       "      <td>...</td>\n",
       "      <td>0</td>\n",
       "      <td>0</td>\n",
       "      <td>0</td>\n",
       "      <td>0</td>\n",
       "      <td>0</td>\n",
       "      <td>0</td>\n",
       "      <td>0</td>\n",
       "      <td>0</td>\n",
       "      <td>0</td>\n",
       "      <td>0</td>\n",
       "    </tr>\n",
       "  </tbody>\n",
       "</table>\n",
       "<p>4340 rows × 1494 columns</p>\n",
       "</div>"
      ],
      "text/plain": [
       "      selling_price  km_driven  owner  car_age  \\\n",
       "0             60000      70000      0       15   \n",
       "1            135000      50000      0       15   \n",
       "2            600000     100000      0       10   \n",
       "3            250000      46000      0        5   \n",
       "4            450000     141000      1        8   \n",
       "...             ...        ...    ...      ...   \n",
       "4335         409999      80000      1        8   \n",
       "4336         409999      80000      1        8   \n",
       "4337         110000      83000      1       13   \n",
       "4338         865000      90000      0        6   \n",
       "4339         225000      40000      0        6   \n",
       "\n",
       "      Ambassador CLASSIC 1500 DSL AC  Ambassador Classic 2000 Dsz  \\\n",
       "0                                  0                            0   \n",
       "1                                  0                            0   \n",
       "2                                  0                            0   \n",
       "3                                  0                            0   \n",
       "4                                  0                            0   \n",
       "...                              ...                          ...   \n",
       "4335                               0                            0   \n",
       "4336                               0                            0   \n",
       "4337                               0                            0   \n",
       "4338                               0                            0   \n",
       "4339                               0                            0   \n",
       "\n",
       "      Ambassador Grand 1800 ISZ MPFI PW CL  Audi A4 1.8 TFSI  Audi A4 2.0 TDI  \\\n",
       "0                                        0                 0                0   \n",
       "1                                        0                 0                0   \n",
       "2                                        0                 0                0   \n",
       "3                                        0                 0                0   \n",
       "4                                        0                 0                0   \n",
       "...                                    ...               ...              ...   \n",
       "4335                                     0                 0                0   \n",
       "4336                                     0                 0                0   \n",
       "4337                                     0                 0                0   \n",
       "4338                                     0                 0                0   \n",
       "4339                                     0                 0                0   \n",
       "\n",
       "      Audi A4 2.0 TDI 177 Bhp Premium Plus  ...  \\\n",
       "0                                        0  ...   \n",
       "1                                        0  ...   \n",
       "2                                        0  ...   \n",
       "3                                        0  ...   \n",
       "4                                        0  ...   \n",
       "...                                    ...  ...   \n",
       "4335                                     0  ...   \n",
       "4336                                     0  ...   \n",
       "4337                                     0  ...   \n",
       "4338                                     0  ...   \n",
       "4339                                     0  ...   \n",
       "\n",
       "      Volkswagen Vento Diesel Style Limited Edition  \\\n",
       "0                                                 0   \n",
       "1                                                 0   \n",
       "2                                                 0   \n",
       "3                                                 0   \n",
       "4                                                 0   \n",
       "...                                             ...   \n",
       "4335                                              0   \n",
       "4336                                              0   \n",
       "4337                                              0   \n",
       "4338                                              0   \n",
       "4339                                              0   \n",
       "\n",
       "      Volkswagen Vento Diesel Trendline  \\\n",
       "0                                     0   \n",
       "1                                     0   \n",
       "2                                     0   \n",
       "3                                     0   \n",
       "4                                     0   \n",
       "...                                 ...   \n",
       "4335                                  0   \n",
       "4336                                  0   \n",
       "4337                                  0   \n",
       "4338                                  0   \n",
       "4339                                  0   \n",
       "\n",
       "      Volkswagen Vento IPL II Diesel Trendline  \\\n",
       "0                                            0   \n",
       "1                                            0   \n",
       "2                                            0   \n",
       "3                                            0   \n",
       "4                                            0   \n",
       "...                                        ...   \n",
       "4335                                         0   \n",
       "4336                                         0   \n",
       "4337                                         0   \n",
       "4338                                         0   \n",
       "4339                                         0   \n",
       "\n",
       "      Volkswagen Vento Magnific 1.6 Highline  \\\n",
       "0                                          0   \n",
       "1                                          0   \n",
       "2                                          0   \n",
       "3                                          0   \n",
       "4                                          0   \n",
       "...                                      ...   \n",
       "4335                                       0   \n",
       "4336                                       0   \n",
       "4337                                       0   \n",
       "4338                                       0   \n",
       "4339                                       0   \n",
       "\n",
       "      Volkswagen Vento New Diesel Highline  Volkswagen Vento Petrol Highline  \\\n",
       "0                                        0                                 0   \n",
       "1                                        0                                 0   \n",
       "2                                        0                                 0   \n",
       "3                                        0                                 0   \n",
       "4                                        0                                 0   \n",
       "...                                    ...                               ...   \n",
       "4335                                     0                                 0   \n",
       "4336                                     0                                 0   \n",
       "4337                                     0                                 0   \n",
       "4338                                     0                                 0   \n",
       "4339                                     0                                 0   \n",
       "\n",
       "      Volkswagen Vento Petrol Highline AT  Volvo V40 D3 R Design  \\\n",
       "0                                       0                      0   \n",
       "1                                       0                      0   \n",
       "2                                       0                      0   \n",
       "3                                       0                      0   \n",
       "4                                       0                      0   \n",
       "...                                   ...                    ...   \n",
       "4335                                    0                      0   \n",
       "4336                                    0                      0   \n",
       "4337                                    0                      0   \n",
       "4338                                    0                      0   \n",
       "4339                                    0                      0   \n",
       "\n",
       "      Volvo XC 90 D5 Inscription BSIV  Volvo XC60 D3 Kinetic  \n",
       "0                                   0                      0  \n",
       "1                                   0                      0  \n",
       "2                                   0                      0  \n",
       "3                                   0                      0  \n",
       "4                                   0                      0  \n",
       "...                               ...                    ...  \n",
       "4335                                0                      0  \n",
       "4336                                0                      0  \n",
       "4337                                0                      0  \n",
       "4338                                0                      0  \n",
       "4339                                0                      0  \n",
       "\n",
       "[4340 rows x 1494 columns]"
      ]
     },
     "execution_count": 21,
     "metadata": {},
     "output_type": "execute_result"
    }
   ],
   "source": [
    "df4 = df3.drop(['name','Volvo XC60 D5 Inscription'], axis='columns')\n",
    "df4"
   ]
  },
  {
   "cell_type": "markdown",
   "id": "6b75c569",
   "metadata": {
    "papermill": {
     "duration": 0.02144,
     "end_time": "2022-08-01T01:24:27.449589",
     "exception": false,
     "start_time": "2022-08-01T01:24:27.428149",
     "status": "completed"
    },
    "tags": []
   },
   "source": [
    "#### **Spliting into X and Y and then using train_test_split**"
   ]
  },
  {
   "cell_type": "code",
   "execution_count": 22,
   "id": "64a90faf",
   "metadata": {
    "execution": {
     "iopub.execute_input": "2022-08-01T01:24:27.494499Z",
     "iopub.status.busy": "2022-08-01T01:24:27.494062Z",
     "iopub.status.idle": "2022-08-01T01:24:27.511578Z",
     "shell.execute_reply": "2022-08-01T01:24:27.510406Z"
    },
    "papermill": {
     "duration": 0.043401,
     "end_time": "2022-08-01T01:24:27.514468",
     "exception": false,
     "start_time": "2022-08-01T01:24:27.471067",
     "status": "completed"
    },
    "tags": []
   },
   "outputs": [],
   "source": [
    "X = df4.drop(['selling_price'],axis='columns')\n",
    "y = df4.selling_price"
   ]
  },
  {
   "cell_type": "code",
   "execution_count": 23,
   "id": "174d8e11",
   "metadata": {
    "execution": {
     "iopub.execute_input": "2022-08-01T01:24:27.560473Z",
     "iopub.status.busy": "2022-08-01T01:24:27.560021Z",
     "iopub.status.idle": "2022-08-01T01:24:27.587014Z",
     "shell.execute_reply": "2022-08-01T01:24:27.585841Z"
    },
    "papermill": {
     "duration": 0.053865,
     "end_time": "2022-08-01T01:24:27.590070",
     "exception": false,
     "start_time": "2022-08-01T01:24:27.536205",
     "status": "completed"
    },
    "tags": []
   },
   "outputs": [
    {
     "data": {
      "text/html": [
       "<div>\n",
       "<style scoped>\n",
       "    .dataframe tbody tr th:only-of-type {\n",
       "        vertical-align: middle;\n",
       "    }\n",
       "\n",
       "    .dataframe tbody tr th {\n",
       "        vertical-align: top;\n",
       "    }\n",
       "\n",
       "    .dataframe thead th {\n",
       "        text-align: right;\n",
       "    }\n",
       "</style>\n",
       "<table border=\"1\" class=\"dataframe\">\n",
       "  <thead>\n",
       "    <tr style=\"text-align: right;\">\n",
       "      <th></th>\n",
       "      <th>km_driven</th>\n",
       "      <th>owner</th>\n",
       "      <th>car_age</th>\n",
       "      <th>Ambassador CLASSIC 1500 DSL AC</th>\n",
       "      <th>Ambassador Classic 2000 Dsz</th>\n",
       "      <th>Ambassador Grand 1800 ISZ MPFI PW CL</th>\n",
       "      <th>Audi A4 1.8 TFSI</th>\n",
       "      <th>Audi A4 2.0 TDI</th>\n",
       "      <th>Audi A4 2.0 TDI 177 Bhp Premium Plus</th>\n",
       "      <th>Audi A4 3.0 TDI Quattro</th>\n",
       "      <th>...</th>\n",
       "      <th>Volkswagen Vento Diesel Style Limited Edition</th>\n",
       "      <th>Volkswagen Vento Diesel Trendline</th>\n",
       "      <th>Volkswagen Vento IPL II Diesel Trendline</th>\n",
       "      <th>Volkswagen Vento Magnific 1.6 Highline</th>\n",
       "      <th>Volkswagen Vento New Diesel Highline</th>\n",
       "      <th>Volkswagen Vento Petrol Highline</th>\n",
       "      <th>Volkswagen Vento Petrol Highline AT</th>\n",
       "      <th>Volvo V40 D3 R Design</th>\n",
       "      <th>Volvo XC 90 D5 Inscription BSIV</th>\n",
       "      <th>Volvo XC60 D3 Kinetic</th>\n",
       "    </tr>\n",
       "  </thead>\n",
       "  <tbody>\n",
       "    <tr>\n",
       "      <th>0</th>\n",
       "      <td>70000</td>\n",
       "      <td>0</td>\n",
       "      <td>15</td>\n",
       "      <td>0</td>\n",
       "      <td>0</td>\n",
       "      <td>0</td>\n",
       "      <td>0</td>\n",
       "      <td>0</td>\n",
       "      <td>0</td>\n",
       "      <td>0</td>\n",
       "      <td>...</td>\n",
       "      <td>0</td>\n",
       "      <td>0</td>\n",
       "      <td>0</td>\n",
       "      <td>0</td>\n",
       "      <td>0</td>\n",
       "      <td>0</td>\n",
       "      <td>0</td>\n",
       "      <td>0</td>\n",
       "      <td>0</td>\n",
       "      <td>0</td>\n",
       "    </tr>\n",
       "    <tr>\n",
       "      <th>1</th>\n",
       "      <td>50000</td>\n",
       "      <td>0</td>\n",
       "      <td>15</td>\n",
       "      <td>0</td>\n",
       "      <td>0</td>\n",
       "      <td>0</td>\n",
       "      <td>0</td>\n",
       "      <td>0</td>\n",
       "      <td>0</td>\n",
       "      <td>0</td>\n",
       "      <td>...</td>\n",
       "      <td>0</td>\n",
       "      <td>0</td>\n",
       "      <td>0</td>\n",
       "      <td>0</td>\n",
       "      <td>0</td>\n",
       "      <td>0</td>\n",
       "      <td>0</td>\n",
       "      <td>0</td>\n",
       "      <td>0</td>\n",
       "      <td>0</td>\n",
       "    </tr>\n",
       "    <tr>\n",
       "      <th>2</th>\n",
       "      <td>100000</td>\n",
       "      <td>0</td>\n",
       "      <td>10</td>\n",
       "      <td>0</td>\n",
       "      <td>0</td>\n",
       "      <td>0</td>\n",
       "      <td>0</td>\n",
       "      <td>0</td>\n",
       "      <td>0</td>\n",
       "      <td>0</td>\n",
       "      <td>...</td>\n",
       "      <td>0</td>\n",
       "      <td>0</td>\n",
       "      <td>0</td>\n",
       "      <td>0</td>\n",
       "      <td>0</td>\n",
       "      <td>0</td>\n",
       "      <td>0</td>\n",
       "      <td>0</td>\n",
       "      <td>0</td>\n",
       "      <td>0</td>\n",
       "    </tr>\n",
       "    <tr>\n",
       "      <th>3</th>\n",
       "      <td>46000</td>\n",
       "      <td>0</td>\n",
       "      <td>5</td>\n",
       "      <td>0</td>\n",
       "      <td>0</td>\n",
       "      <td>0</td>\n",
       "      <td>0</td>\n",
       "      <td>0</td>\n",
       "      <td>0</td>\n",
       "      <td>0</td>\n",
       "      <td>...</td>\n",
       "      <td>0</td>\n",
       "      <td>0</td>\n",
       "      <td>0</td>\n",
       "      <td>0</td>\n",
       "      <td>0</td>\n",
       "      <td>0</td>\n",
       "      <td>0</td>\n",
       "      <td>0</td>\n",
       "      <td>0</td>\n",
       "      <td>0</td>\n",
       "    </tr>\n",
       "    <tr>\n",
       "      <th>4</th>\n",
       "      <td>141000</td>\n",
       "      <td>1</td>\n",
       "      <td>8</td>\n",
       "      <td>0</td>\n",
       "      <td>0</td>\n",
       "      <td>0</td>\n",
       "      <td>0</td>\n",
       "      <td>0</td>\n",
       "      <td>0</td>\n",
       "      <td>0</td>\n",
       "      <td>...</td>\n",
       "      <td>0</td>\n",
       "      <td>0</td>\n",
       "      <td>0</td>\n",
       "      <td>0</td>\n",
       "      <td>0</td>\n",
       "      <td>0</td>\n",
       "      <td>0</td>\n",
       "      <td>0</td>\n",
       "      <td>0</td>\n",
       "      <td>0</td>\n",
       "    </tr>\n",
       "    <tr>\n",
       "      <th>...</th>\n",
       "      <td>...</td>\n",
       "      <td>...</td>\n",
       "      <td>...</td>\n",
       "      <td>...</td>\n",
       "      <td>...</td>\n",
       "      <td>...</td>\n",
       "      <td>...</td>\n",
       "      <td>...</td>\n",
       "      <td>...</td>\n",
       "      <td>...</td>\n",
       "      <td>...</td>\n",
       "      <td>...</td>\n",
       "      <td>...</td>\n",
       "      <td>...</td>\n",
       "      <td>...</td>\n",
       "      <td>...</td>\n",
       "      <td>...</td>\n",
       "      <td>...</td>\n",
       "      <td>...</td>\n",
       "      <td>...</td>\n",
       "      <td>...</td>\n",
       "    </tr>\n",
       "    <tr>\n",
       "      <th>4335</th>\n",
       "      <td>80000</td>\n",
       "      <td>1</td>\n",
       "      <td>8</td>\n",
       "      <td>0</td>\n",
       "      <td>0</td>\n",
       "      <td>0</td>\n",
       "      <td>0</td>\n",
       "      <td>0</td>\n",
       "      <td>0</td>\n",
       "      <td>0</td>\n",
       "      <td>...</td>\n",
       "      <td>0</td>\n",
       "      <td>0</td>\n",
       "      <td>0</td>\n",
       "      <td>0</td>\n",
       "      <td>0</td>\n",
       "      <td>0</td>\n",
       "      <td>0</td>\n",
       "      <td>0</td>\n",
       "      <td>0</td>\n",
       "      <td>0</td>\n",
       "    </tr>\n",
       "    <tr>\n",
       "      <th>4336</th>\n",
       "      <td>80000</td>\n",
       "      <td>1</td>\n",
       "      <td>8</td>\n",
       "      <td>0</td>\n",
       "      <td>0</td>\n",
       "      <td>0</td>\n",
       "      <td>0</td>\n",
       "      <td>0</td>\n",
       "      <td>0</td>\n",
       "      <td>0</td>\n",
       "      <td>...</td>\n",
       "      <td>0</td>\n",
       "      <td>0</td>\n",
       "      <td>0</td>\n",
       "      <td>0</td>\n",
       "      <td>0</td>\n",
       "      <td>0</td>\n",
       "      <td>0</td>\n",
       "      <td>0</td>\n",
       "      <td>0</td>\n",
       "      <td>0</td>\n",
       "    </tr>\n",
       "    <tr>\n",
       "      <th>4337</th>\n",
       "      <td>83000</td>\n",
       "      <td>1</td>\n",
       "      <td>13</td>\n",
       "      <td>0</td>\n",
       "      <td>0</td>\n",
       "      <td>0</td>\n",
       "      <td>0</td>\n",
       "      <td>0</td>\n",
       "      <td>0</td>\n",
       "      <td>0</td>\n",
       "      <td>...</td>\n",
       "      <td>0</td>\n",
       "      <td>0</td>\n",
       "      <td>0</td>\n",
       "      <td>0</td>\n",
       "      <td>0</td>\n",
       "      <td>0</td>\n",
       "      <td>0</td>\n",
       "      <td>0</td>\n",
       "      <td>0</td>\n",
       "      <td>0</td>\n",
       "    </tr>\n",
       "    <tr>\n",
       "      <th>4338</th>\n",
       "      <td>90000</td>\n",
       "      <td>0</td>\n",
       "      <td>6</td>\n",
       "      <td>0</td>\n",
       "      <td>0</td>\n",
       "      <td>0</td>\n",
       "      <td>0</td>\n",
       "      <td>0</td>\n",
       "      <td>0</td>\n",
       "      <td>0</td>\n",
       "      <td>...</td>\n",
       "      <td>0</td>\n",
       "      <td>0</td>\n",
       "      <td>0</td>\n",
       "      <td>0</td>\n",
       "      <td>0</td>\n",
       "      <td>0</td>\n",
       "      <td>0</td>\n",
       "      <td>0</td>\n",
       "      <td>0</td>\n",
       "      <td>0</td>\n",
       "    </tr>\n",
       "    <tr>\n",
       "      <th>4339</th>\n",
       "      <td>40000</td>\n",
       "      <td>0</td>\n",
       "      <td>6</td>\n",
       "      <td>0</td>\n",
       "      <td>0</td>\n",
       "      <td>0</td>\n",
       "      <td>0</td>\n",
       "      <td>0</td>\n",
       "      <td>0</td>\n",
       "      <td>0</td>\n",
       "      <td>...</td>\n",
       "      <td>0</td>\n",
       "      <td>0</td>\n",
       "      <td>0</td>\n",
       "      <td>0</td>\n",
       "      <td>0</td>\n",
       "      <td>0</td>\n",
       "      <td>0</td>\n",
       "      <td>0</td>\n",
       "      <td>0</td>\n",
       "      <td>0</td>\n",
       "    </tr>\n",
       "  </tbody>\n",
       "</table>\n",
       "<p>4340 rows × 1493 columns</p>\n",
       "</div>"
      ],
      "text/plain": [
       "      km_driven  owner  car_age  Ambassador CLASSIC 1500 DSL AC  \\\n",
       "0         70000      0       15                               0   \n",
       "1         50000      0       15                               0   \n",
       "2        100000      0       10                               0   \n",
       "3         46000      0        5                               0   \n",
       "4        141000      1        8                               0   \n",
       "...         ...    ...      ...                             ...   \n",
       "4335      80000      1        8                               0   \n",
       "4336      80000      1        8                               0   \n",
       "4337      83000      1       13                               0   \n",
       "4338      90000      0        6                               0   \n",
       "4339      40000      0        6                               0   \n",
       "\n",
       "      Ambassador Classic 2000 Dsz  Ambassador Grand 1800 ISZ MPFI PW CL  \\\n",
       "0                               0                                     0   \n",
       "1                               0                                     0   \n",
       "2                               0                                     0   \n",
       "3                               0                                     0   \n",
       "4                               0                                     0   \n",
       "...                           ...                                   ...   \n",
       "4335                            0                                     0   \n",
       "4336                            0                                     0   \n",
       "4337                            0                                     0   \n",
       "4338                            0                                     0   \n",
       "4339                            0                                     0   \n",
       "\n",
       "      Audi A4 1.8 TFSI  Audi A4 2.0 TDI  Audi A4 2.0 TDI 177 Bhp Premium Plus  \\\n",
       "0                    0                0                                     0   \n",
       "1                    0                0                                     0   \n",
       "2                    0                0                                     0   \n",
       "3                    0                0                                     0   \n",
       "4                    0                0                                     0   \n",
       "...                ...              ...                                   ...   \n",
       "4335                 0                0                                     0   \n",
       "4336                 0                0                                     0   \n",
       "4337                 0                0                                     0   \n",
       "4338                 0                0                                     0   \n",
       "4339                 0                0                                     0   \n",
       "\n",
       "      Audi A4 3.0 TDI Quattro  ...  \\\n",
       "0                           0  ...   \n",
       "1                           0  ...   \n",
       "2                           0  ...   \n",
       "3                           0  ...   \n",
       "4                           0  ...   \n",
       "...                       ...  ...   \n",
       "4335                        0  ...   \n",
       "4336                        0  ...   \n",
       "4337                        0  ...   \n",
       "4338                        0  ...   \n",
       "4339                        0  ...   \n",
       "\n",
       "      Volkswagen Vento Diesel Style Limited Edition  \\\n",
       "0                                                 0   \n",
       "1                                                 0   \n",
       "2                                                 0   \n",
       "3                                                 0   \n",
       "4                                                 0   \n",
       "...                                             ...   \n",
       "4335                                              0   \n",
       "4336                                              0   \n",
       "4337                                              0   \n",
       "4338                                              0   \n",
       "4339                                              0   \n",
       "\n",
       "      Volkswagen Vento Diesel Trendline  \\\n",
       "0                                     0   \n",
       "1                                     0   \n",
       "2                                     0   \n",
       "3                                     0   \n",
       "4                                     0   \n",
       "...                                 ...   \n",
       "4335                                  0   \n",
       "4336                                  0   \n",
       "4337                                  0   \n",
       "4338                                  0   \n",
       "4339                                  0   \n",
       "\n",
       "      Volkswagen Vento IPL II Diesel Trendline  \\\n",
       "0                                            0   \n",
       "1                                            0   \n",
       "2                                            0   \n",
       "3                                            0   \n",
       "4                                            0   \n",
       "...                                        ...   \n",
       "4335                                         0   \n",
       "4336                                         0   \n",
       "4337                                         0   \n",
       "4338                                         0   \n",
       "4339                                         0   \n",
       "\n",
       "      Volkswagen Vento Magnific 1.6 Highline  \\\n",
       "0                                          0   \n",
       "1                                          0   \n",
       "2                                          0   \n",
       "3                                          0   \n",
       "4                                          0   \n",
       "...                                      ...   \n",
       "4335                                       0   \n",
       "4336                                       0   \n",
       "4337                                       0   \n",
       "4338                                       0   \n",
       "4339                                       0   \n",
       "\n",
       "      Volkswagen Vento New Diesel Highline  Volkswagen Vento Petrol Highline  \\\n",
       "0                                        0                                 0   \n",
       "1                                        0                                 0   \n",
       "2                                        0                                 0   \n",
       "3                                        0                                 0   \n",
       "4                                        0                                 0   \n",
       "...                                    ...                               ...   \n",
       "4335                                     0                                 0   \n",
       "4336                                     0                                 0   \n",
       "4337                                     0                                 0   \n",
       "4338                                     0                                 0   \n",
       "4339                                     0                                 0   \n",
       "\n",
       "      Volkswagen Vento Petrol Highline AT  Volvo V40 D3 R Design  \\\n",
       "0                                       0                      0   \n",
       "1                                       0                      0   \n",
       "2                                       0                      0   \n",
       "3                                       0                      0   \n",
       "4                                       0                      0   \n",
       "...                                   ...                    ...   \n",
       "4335                                    0                      0   \n",
       "4336                                    0                      0   \n",
       "4337                                    0                      0   \n",
       "4338                                    0                      0   \n",
       "4339                                    0                      0   \n",
       "\n",
       "      Volvo XC 90 D5 Inscription BSIV  Volvo XC60 D3 Kinetic  \n",
       "0                                   0                      0  \n",
       "1                                   0                      0  \n",
       "2                                   0                      0  \n",
       "3                                   0                      0  \n",
       "4                                   0                      0  \n",
       "...                               ...                    ...  \n",
       "4335                                0                      0  \n",
       "4336                                0                      0  \n",
       "4337                                0                      0  \n",
       "4338                                0                      0  \n",
       "4339                                0                      0  \n",
       "\n",
       "[4340 rows x 1493 columns]"
      ]
     },
     "execution_count": 23,
     "metadata": {},
     "output_type": "execute_result"
    }
   ],
   "source": [
    "X"
   ]
  },
  {
   "cell_type": "code",
   "execution_count": 24,
   "id": "495a7f40",
   "metadata": {
    "execution": {
     "iopub.execute_input": "2022-08-01T01:24:27.636372Z",
     "iopub.status.busy": "2022-08-01T01:24:27.635906Z",
     "iopub.status.idle": "2022-08-01T01:24:27.644371Z",
     "shell.execute_reply": "2022-08-01T01:24:27.643522Z"
    },
    "papermill": {
     "duration": 0.034442,
     "end_time": "2022-08-01T01:24:27.646681",
     "exception": false,
     "start_time": "2022-08-01T01:24:27.612239",
     "status": "completed"
    },
    "tags": []
   },
   "outputs": [
    {
     "data": {
      "text/plain": [
       "0        60000\n",
       "1       135000\n",
       "2       600000\n",
       "3       250000\n",
       "4       450000\n",
       "         ...  \n",
       "4335    409999\n",
       "4336    409999\n",
       "4337    110000\n",
       "4338    865000\n",
       "4339    225000\n",
       "Name: selling_price, Length: 4340, dtype: int64"
      ]
     },
     "execution_count": 24,
     "metadata": {},
     "output_type": "execute_result"
    }
   ],
   "source": [
    "y"
   ]
  },
  {
   "cell_type": "markdown",
   "id": "06214e15",
   "metadata": {
    "papermill": {
     "duration": 0.02202,
     "end_time": "2022-08-01T01:24:27.691046",
     "exception": false,
     "start_time": "2022-08-01T01:24:27.669026",
     "status": "completed"
    },
    "tags": []
   },
   "source": [
    "#### **Splitting into Train set and Test set**"
   ]
  },
  {
   "cell_type": "code",
   "execution_count": 25,
   "id": "271eafb9",
   "metadata": {
    "execution": {
     "iopub.execute_input": "2022-08-01T01:24:27.739579Z",
     "iopub.status.busy": "2022-08-01T01:24:27.737084Z",
     "iopub.status.idle": "2022-08-01T01:24:28.009825Z",
     "shell.execute_reply": "2022-08-01T01:24:28.008517Z"
    },
    "papermill": {
     "duration": 0.299637,
     "end_time": "2022-08-01T01:24:28.013072",
     "exception": false,
     "start_time": "2022-08-01T01:24:27.713435",
     "status": "completed"
    },
    "tags": []
   },
   "outputs": [],
   "source": [
    "from sklearn.model_selection import train_test_split\n",
    "X_train, X_test, y_train, y_test = train_test_split(X,y,test_size=0.2,random_state=10)"
   ]
  },
  {
   "cell_type": "markdown",
   "id": "3ba65e4a",
   "metadata": {
    "papermill": {
     "duration": 0.022986,
     "end_time": "2022-08-01T01:24:28.058765",
     "exception": false,
     "start_time": "2022-08-01T01:24:28.035779",
     "status": "completed"
    },
    "tags": []
   },
   "source": [
    "#### **Model Formation**"
   ]
  },
  {
   "cell_type": "code",
   "execution_count": 26,
   "id": "5f0e0db4",
   "metadata": {
    "execution": {
     "iopub.execute_input": "2022-08-01T01:24:28.107828Z",
     "iopub.status.busy": "2022-08-01T01:24:28.107378Z",
     "iopub.status.idle": "2022-08-01T01:24:29.466407Z",
     "shell.execute_reply": "2022-08-01T01:24:29.465041Z"
    },
    "papermill": {
     "duration": 1.387693,
     "end_time": "2022-08-01T01:24:29.471140",
     "exception": false,
     "start_time": "2022-08-01T01:24:28.083447",
     "status": "completed"
    },
    "tags": []
   },
   "outputs": [
    {
     "data": {
      "text/plain": [
       "-45571815820615.42"
      ]
     },
     "execution_count": 26,
     "metadata": {},
     "output_type": "execute_result"
    }
   ],
   "source": [
    "from sklearn.linear_model import LinearRegression\n",
    "lr_model = LinearRegression()\n",
    "lr_model.fit(X_train,y_train)\n",
    "lr_model.score(X_test,y_test)"
   ]
  },
  {
   "cell_type": "code",
   "execution_count": 27,
   "id": "20ae648e",
   "metadata": {
    "execution": {
     "iopub.execute_input": "2022-08-01T01:24:29.573391Z",
     "iopub.status.busy": "2022-08-01T01:24:29.571571Z",
     "iopub.status.idle": "2022-08-01T01:24:38.229955Z",
     "shell.execute_reply": "2022-08-01T01:24:38.228292Z"
    },
    "papermill": {
     "duration": 8.705117,
     "end_time": "2022-08-01T01:24:38.236065",
     "exception": false,
     "start_time": "2022-08-01T01:24:29.530948",
     "status": "completed"
    },
    "tags": []
   },
   "outputs": [
    {
     "data": {
      "text/plain": [
       "0.6896930152313916"
      ]
     },
     "execution_count": 27,
     "metadata": {},
     "output_type": "execute_result"
    }
   ],
   "source": [
    "from sklearn import linear_model\n",
    "lasso_model = linear_model.Lasso(alpha=2, selection='random')\n",
    "lasso_model.fit(X_train,y_train)\n",
    "lasso_model.score(X_test,y_test)"
   ]
  },
  {
   "cell_type": "markdown",
   "id": "51bb6ba9",
   "metadata": {
    "papermill": {
     "duration": 0.038322,
     "end_time": "2022-08-01T01:24:38.334108",
     "exception": false,
     "start_time": "2022-08-01T01:24:38.295786",
     "status": "completed"
    },
    "tags": []
   },
   "source": [
    "Observation: In this case Lasso regression model gives better accuracy than Linear regression model"
   ]
  },
  {
   "cell_type": "code",
   "execution_count": 28,
   "id": "60991ff4",
   "metadata": {
    "execution": {
     "iopub.execute_input": "2022-08-01T01:24:38.384438Z",
     "iopub.status.busy": "2022-08-01T01:24:38.383977Z",
     "iopub.status.idle": "2022-08-01T01:24:38.392913Z",
     "shell.execute_reply": "2022-08-01T01:24:38.391395Z"
    },
    "papermill": {
     "duration": 0.037583,
     "end_time": "2022-08-01T01:24:38.396178",
     "exception": false,
     "start_time": "2022-08-01T01:24:38.358595",
     "status": "completed"
    },
    "tags": []
   },
   "outputs": [],
   "source": [
    "def predict_price(name,km_driven,owner,car_age):    \n",
    "    loc_index = np.where(X.columns==name)[0][0]\n",
    "\n",
    "    x = np.zeros(len(X.columns))\n",
    "    x[0] = km_driven\n",
    "    x[1] = owner\n",
    "    x[2] = car_age\n",
    "    if loc_index >= 0:\n",
    "        x[loc_index] = 1\n",
    "\n",
    "    return lasso_model.predict([x])[0]"
   ]
  },
  {
   "cell_type": "markdown",
   "id": "57f24a23",
   "metadata": {
    "papermill": {
     "duration": 0.022596,
     "end_time": "2022-08-01T01:24:38.442026",
     "exception": false,
     "start_time": "2022-08-01T01:24:38.419430",
     "status": "completed"
    },
    "tags": []
   },
   "source": [
    "#### **Predict price** "
   ]
  },
  {
   "cell_type": "markdown",
   "id": "e563c8b1",
   "metadata": {
    "papermill": {
     "duration": 0.023267,
     "end_time": "2022-08-01T01:24:38.489157",
     "exception": false,
     "start_time": "2022-08-01T01:24:38.465890",
     "status": "completed"
    },
    "tags": []
   },
   "source": [
    "Sample\n",
    "\n",
    "- Model: Maruti Wagon R LXI Minor\n",
    "- km_driven:50000\n",
    "- Owner: First Owner\n",
    "- Car_age: 15"
   ]
  },
  {
   "cell_type": "code",
   "execution_count": 34,
   "id": "dd8221a9",
   "metadata": {
    "execution": {
     "iopub.execute_input": "2022-08-01T01:24:38.539169Z",
     "iopub.status.busy": "2022-08-01T01:24:38.538023Z",
     "iopub.status.idle": "2022-08-01T01:24:38.551613Z",
     "shell.execute_reply": "2022-08-01T01:24:38.549653Z"
    },
    "papermill": {
     "duration": 0.042666,
     "end_time": "2022-08-01T01:24:38.555234",
     "exception": false,
     "start_time": "2022-08-01T01:24:38.512568",
     "status": "completed"
    },
    "tags": []
   },
   "outputs": [
    {
     "name": "stderr",
     "output_type": "stream",
     "text": [
      "C:\\ProgramData\\Anaconda3\\lib\\site-packages\\sklearn\\base.py:450: UserWarning: X does not have valid feature names, but Lasso was fitted with feature names\n",
      "  warnings.warn(\n"
     ]
    },
    {
     "data": {
      "text/plain": [
       "130159.72422862705"
      ]
     },
     "execution_count": 34,
     "metadata": {},
     "output_type": "execute_result"
    }
   ],
   "source": [
    "predict_price('Maruti Wagon R LXI Minor',50000,1,15)"
   ]
  },
  {
   "cell_type": "markdown",
   "id": "05c0af06",
   "metadata": {
    "papermill": {
     "duration": 0.022946,
     "end_time": "2022-08-01T01:24:38.601674",
     "exception": false,
     "start_time": "2022-08-01T01:24:38.578728",
     "status": "completed"
    },
    "tags": []
   },
   "source": [
    "- Predicted Price: 131601\n",
    "- Expected Price:135000"
   ]
  },
  {
   "cell_type": "code",
   "execution_count": 30,
   "id": "d45f69e5",
   "metadata": {},
   "outputs": [],
   "source": [
    "import pickle\n",
    "with open('used_car_price.pickle','wb') as f:\n",
    "    pickle.dump(lasso_model,f)"
   ]
  },
  {
   "cell_type": "code",
   "execution_count": 31,
   "id": "74740972",
   "metadata": {},
   "outputs": [],
   "source": [
    "import json\n",
    "columns = {\n",
    "    'data_columns' : [col.lower() for col in X.columns]\n",
    "}\n",
    "with open(\"columns.json\",\"w\") as f:\n",
    "    f.write(json.dumps(columns))"
   ]
  }
 ],
 "metadata": {
  "kernelspec": {
   "display_name": "Python 3 (ipykernel)",
   "language": "python",
   "name": "python3"
  },
  "language_info": {
   "codemirror_mode": {
    "name": "ipython",
    "version": 3
   },
   "file_extension": ".py",
   "mimetype": "text/x-python",
   "name": "python",
   "nbconvert_exporter": "python",
   "pygments_lexer": "ipython3",
   "version": "3.9.12"
  },
  "papermill": {
   "default_parameters": {},
   "duration": 28.818748,
   "end_time": "2022-08-01T01:24:39.448129",
   "environment_variables": {},
   "exception": null,
   "input_path": "__notebook__.ipynb",
   "output_path": "__notebook__.ipynb",
   "parameters": {},
   "start_time": "2022-08-01T01:24:10.629381",
   "version": "2.3.4"
  }
 },
 "nbformat": 4,
 "nbformat_minor": 5
}
